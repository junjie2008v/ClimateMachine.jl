{
 "cells": [
  {
   "cell_type": "markdown",
   "source": [
    "# Batched Generalized Minimal Residual\n",
    "In this tutorial we describe the basics of using the batched gmres iterative solver.\n",
    "At the end you should be able to\n",
    "1. Use BatchedGeneralizedMinimalResidual to solve batches of linear systems\n",
    "2. Construct a columnwise linear solver with BatchedGeneralizedMinimalResidual"
   ],
   "metadata": {}
  },
  {
   "cell_type": "markdown",
   "source": [
    "## What is the Generalized Minimal Residual Method?\n",
    "The  Generalized Minimal Residual Method (GMRES) is a [Krylov subspace](https://en.wikipedia.org/wiki/Krylov_subspace) method for solving linear systems:\n",
    "$$\n",
    " Ax = b\n",
    "$$\n",
    "See the [wikipedia](https://en.wikipedia.org/wiki/Generalized_minimal_residual_method) for more details."
   ],
   "metadata": {}
  },
  {
   "cell_type": "markdown",
   "source": [
    "## What is the Batched Generalized Minimal Residual Method?\n",
    "As the name suggests it solves a whole bunch of independent GMRES problems"
   ],
   "metadata": {}
  },
  {
   "cell_type": "markdown",
   "source": [
    "## Basic Example\n",
    "First we must load a few things"
   ],
   "metadata": {}
  },
  {
   "outputs": [],
   "cell_type": "code",
   "source": [
    "using ClimateMachine\n",
    "using ClimateMachine.SystemSolvers\n",
    "using LinearAlgebra, Random, Plots"
   ],
   "metadata": {},
   "execution_count": 1
  },
  {
   "cell_type": "markdown",
   "source": [
    "Next we define two linear systems that we would like to solve simultaneously.\n",
    "The matrix for the first linear system is"
   ],
   "metadata": {}
  },
  {
   "outputs": [],
   "cell_type": "code",
   "source": [
    "A1 = [\n",
    "    2.0 -1.0 0.0\n",
    "    -1.0 2.0 -1.0\n",
    "    0.0 -1.0 2.0\n",
    "];"
   ],
   "metadata": {},
   "execution_count": 2
  },
  {
   "cell_type": "markdown",
   "source": [
    "And the right hand side is"
   ],
   "metadata": {}
  },
  {
   "outputs": [],
   "cell_type": "code",
   "source": [
    "b1 = ones(typeof(1.0), 3);"
   ],
   "metadata": {},
   "execution_count": 3
  },
  {
   "cell_type": "markdown",
   "source": [
    "The exact solution to the first linear system is"
   ],
   "metadata": {}
  },
  {
   "outputs": [],
   "cell_type": "code",
   "source": [
    "x1_exact = [1.5, 2.0, 1.5];"
   ],
   "metadata": {},
   "execution_count": 4
  },
  {
   "cell_type": "markdown",
   "source": [
    "The matrix for the first linear system is"
   ],
   "metadata": {}
  },
  {
   "outputs": [],
   "cell_type": "code",
   "source": [
    "A2 = [\n",
    "    2.0 -1.0 0.0\n",
    "    0.0 2.0 -1.0\n",
    "    0.0 0.0 2.0\n",
    "];"
   ],
   "metadata": {},
   "execution_count": 5
  },
  {
   "cell_type": "markdown",
   "source": [
    "And the right hand side is"
   ],
   "metadata": {}
  },
  {
   "outputs": [],
   "cell_type": "code",
   "source": [
    "b2 = ones(typeof(1.0), 3);"
   ],
   "metadata": {},
   "execution_count": 6
  },
  {
   "cell_type": "markdown",
   "source": [
    "The exact solution to second linear system is"
   ],
   "metadata": {}
  },
  {
   "outputs": [],
   "cell_type": "code",
   "source": [
    "x2_exact = [0.875, 0.75, 0.5];"
   ],
   "metadata": {},
   "execution_count": 7
  },
  {
   "cell_type": "markdown",
   "source": [
    "We now define a function that performs the action of each linear operator independently."
   ],
   "metadata": {}
  },
  {
   "outputs": [],
   "cell_type": "code",
   "source": [
    "function closure_linear_operator(A1, A2)\n",
    "    function linear_operator!(x, y)\n",
    "        mul!(view(x, :, 1), A1, view(y, :, 1))\n",
    "        mul!(view(x, :, 2), A2, view(y, :, 2))\n",
    "        return nothing\n",
    "    end\n",
    "    return linear_operator!\n",
    "end;"
   ],
   "metadata": {},
   "execution_count": 8
  },
  {
   "cell_type": "markdown",
   "source": [
    "To understand how this works let us construct an instance\n",
    "of the linear operator and apply it to a vector"
   ],
   "metadata": {}
  },
  {
   "outputs": [],
   "cell_type": "code",
   "source": [
    "linear_operator! = closure_linear_operator(A1, A2);"
   ],
   "metadata": {},
   "execution_count": 9
  },
  {
   "cell_type": "markdown",
   "source": [
    "Let us see what the action of this linear operator is"
   ],
   "metadata": {}
  },
  {
   "outputs": [
    {
     "output_type": "execute_result",
     "data": {
      "text/plain": "3×2 Array{Float64,2}:\n 1.0  2.0\n 0.0  2.0\n 1.0  4.0"
     },
     "metadata": {},
     "execution_count": 10
    }
   ],
   "cell_type": "code",
   "source": [
    "y1 = ones(typeof(1.0), 3);\n",
    "y2 = ones(typeof(1.0), 3) * 2.0;\n",
    "y = [y1 y2];\n",
    "x = copy(y);\n",
    "linear_operator!(x, y);\n",
    "x"
   ],
   "metadata": {},
   "execution_count": 10
  },
  {
   "cell_type": "markdown",
   "source": [
    "We see that the first column is `A1 * [1 1 1]'`\n",
    "and the second column is `A2 * [2 2 2]'`\n",
    "that is,"
   ],
   "metadata": {}
  },
  {
   "outputs": [
    {
     "output_type": "execute_result",
     "data": {
      "text/plain": "3×2 Array{Float64,2}:\n 1.0  2.0\n 0.0  2.0\n 1.0  4.0"
     },
     "metadata": {},
     "execution_count": 11
    }
   ],
   "cell_type": "code",
   "source": [
    "[A1 * y1 A2 * y2]"
   ],
   "metadata": {},
   "execution_count": 11
  },
  {
   "cell_type": "markdown",
   "source": [
    "We are now ready to set up our Batched Generalized Minimal Residual solver\n",
    "We must now set up the right hand side of the linear system"
   ],
   "metadata": {}
  },
  {
   "outputs": [],
   "cell_type": "code",
   "source": [
    "b = [b1 b2];"
   ],
   "metadata": {},
   "execution_count": 12
  },
  {
   "cell_type": "markdown",
   "source": [
    "as well as the exact solution, (to verify convergence)"
   ],
   "metadata": {}
  },
  {
   "outputs": [],
   "cell_type": "code",
   "source": [
    "x_exact = [x1_exact x2_exact];"
   ],
   "metadata": {},
   "execution_count": 13
  },
  {
   "cell_type": "markdown",
   "source": [
    "!!! warning\n",
    "    For BatchedGeneralizedMinimalResidual the assumption is that each column of b is independent and corresponds to a batch. This will come back later."
   ],
   "metadata": {}
  },
  {
   "cell_type": "markdown",
   "source": [
    "We now use an instance of the solver"
   ],
   "metadata": {}
  },
  {
   "outputs": [],
   "cell_type": "code",
   "source": [
    "linearsolver = BatchedGeneralizedMinimalResidual(b, size(A1, 1), 2);"
   ],
   "metadata": {},
   "execution_count": 14
  },
  {
   "cell_type": "markdown",
   "source": [
    "As well as an initial guess, denoted by the variable x"
   ],
   "metadata": {}
  },
  {
   "outputs": [],
   "cell_type": "code",
   "source": [
    "x1 = ones(typeof(1.0), 3);\n",
    "x2 = ones(typeof(1.0), 3);\n",
    "x = [x1 x2];"
   ],
   "metadata": {},
   "execution_count": 15
  },
  {
   "cell_type": "markdown",
   "source": [
    "To solve the linear system, we just need to pass to the linearsolve! function"
   ],
   "metadata": {}
  },
  {
   "outputs": [
    {
     "output_type": "execute_result",
     "data": {
      "text/plain": "3"
     },
     "metadata": {},
     "execution_count": 16
    }
   ],
   "cell_type": "code",
   "source": [
    "iters = linearsolve!(linear_operator!, nothing, linearsolver, x, b)"
   ],
   "metadata": {},
   "execution_count": 16
  },
  {
   "cell_type": "markdown",
   "source": [
    "which is guaranteed to converge in 3 iterations since `length(b1)=length(b2)=3`\n",
    "We can now check that the solution that we computed, x"
   ],
   "metadata": {}
  },
  {
   "outputs": [
    {
     "output_type": "execute_result",
     "data": {
      "text/plain": "3×2 Array{Float64,2}:\n 1.5  0.875\n 2.0  0.75\n 1.5  0.5"
     },
     "metadata": {},
     "execution_count": 17
    }
   ],
   "cell_type": "code",
   "source": [
    "x"
   ],
   "metadata": {},
   "execution_count": 17
  },
  {
   "cell_type": "markdown",
   "source": [
    "has converged to the exact solution"
   ],
   "metadata": {}
  },
  {
   "outputs": [
    {
     "output_type": "execute_result",
     "data": {
      "text/plain": "3×2 Array{Float64,2}:\n 1.5  0.875\n 2.0  0.75\n 1.5  0.5"
     },
     "metadata": {},
     "execution_count": 18
    }
   ],
   "cell_type": "code",
   "source": [
    "x_exact"
   ],
   "metadata": {},
   "execution_count": 18
  },
  {
   "cell_type": "markdown",
   "source": [
    "Which indeed it has.\n",
    "## Advanced Example"
   ],
   "metadata": {}
  },
  {
   "cell_type": "markdown",
   "source": [
    "We now go through a more advanced application of the Batched Generalized Minimal Residual solver\n",
    "!!! warning\n",
    "    Iterative methods should be used with preconditioners!\n",
    "The first thing we do is define a linear operator that mimics\n",
    "the behavior of a columnwise operator in ClimateMachine"
   ],
   "metadata": {}
  },
  {
   "outputs": [],
   "cell_type": "code",
   "source": [
    "function closure_linear_operator!(A, tup)\n",
    "    function linear_operator!(y, x)\n",
    "        alias_x = reshape(x, tup)\n",
    "        alias_y = reshape(y, tup)\n",
    "        for i6 in 1:tup[6]\n",
    "            for i4 in 1:tup[4]\n",
    "                for i2 in 1:tup[2]\n",
    "                    for i1 in 1:tup[1]\n",
    "                        tmp = alias_x[i1, i2, :, i4, :, i6][:]\n",
    "                        tmp2 = A[i1, i2, i4, i6] * tmp\n",
    "                        alias_y[i1, i2, :, i4, :, i6] .=\n",
    "                            reshape(tmp2, (tup[3], tup[5]))\n",
    "                    end\n",
    "                end\n",
    "            end\n",
    "        end\n",
    "    end\n",
    "end;"
   ],
   "metadata": {},
   "execution_count": 19
  },
  {
   "cell_type": "markdown",
   "source": [
    "Next we define the array structure of an MPIStateArray\n",
    "in its true high dimensional form"
   ],
   "metadata": {}
  },
  {
   "outputs": [],
   "cell_type": "code",
   "source": [
    "tup = (2, 2, 5, 2, 10, 2);"
   ],
   "metadata": {},
   "execution_count": 20
  },
  {
   "cell_type": "markdown",
   "source": [
    "We define our linear operator as a random matrix"
   ],
   "metadata": {}
  },
  {
   "outputs": [],
   "cell_type": "code",
   "source": [
    "Random.seed!(1234);\n",
    "B = [\n",
    "    randn(tup[3] * tup[5], tup[3] * tup[5])\n",
    "    for i1 in 1:tup[1], i2 in 1:tup[2], i4 in 1:tup[4], i6 in 1:tup[6]\n",
    "];\n",
    "columnwise_A = [\n",
    "    B[i1, i2, i4, i6] + 3 * (i1 + i2 + i4 + i6) * I\n",
    "    for i1 in 1:tup[1], i2 in 1:tup[2], i4 in 1:tup[4], i6 in 1:tup[6]\n",
    "];"
   ],
   "metadata": {},
   "execution_count": 21
  },
  {
   "cell_type": "markdown",
   "source": [
    "as well as its inverse"
   ],
   "metadata": {}
  },
  {
   "outputs": [],
   "cell_type": "code",
   "source": [
    "columnwise_inv_A = [\n",
    "    inv(columnwise_A[i1, i2, i4, i6])\n",
    "    for i1 in 1:tup[1], i2 in 1:tup[2], i4 in 1:tup[4], i6 in 1:tup[6]\n",
    "];\n",
    "columnwise_linear_operator! = closure_linear_operator!(columnwise_A, tup);\n",
    "columnwise_inverse_linear_operator! =\n",
    "    closure_linear_operator!(columnwise_inv_A, tup);"
   ],
   "metadata": {},
   "execution_count": 22
  },
  {
   "cell_type": "markdown",
   "source": [
    "The structure of an MPIStateArray is related to its true\n",
    "higher dimensional form as follows:"
   ],
   "metadata": {}
  },
  {
   "outputs": [],
   "cell_type": "code",
   "source": [
    "mpi_tup = (tup[1] * tup[2] * tup[3], tup[4], tup[5] * tup[6]);"
   ],
   "metadata": {},
   "execution_count": 23
  },
  {
   "cell_type": "markdown",
   "source": [
    "We now define the right hand side of our Linear system"
   ],
   "metadata": {}
  },
  {
   "outputs": [],
   "cell_type": "code",
   "source": [
    "b = randn(mpi_tup);"
   ],
   "metadata": {},
   "execution_count": 24
  },
  {
   "cell_type": "markdown",
   "source": [
    "As well as the initial guess"
   ],
   "metadata": {}
  },
  {
   "outputs": [],
   "cell_type": "code",
   "source": [
    "x = copy(b);\n",
    "x += randn(mpi_tup) * 0.1;"
   ],
   "metadata": {},
   "execution_count": 25
  },
  {
   "cell_type": "markdown",
   "source": [
    "In the previous tutorial we mentioned that it is assumed that\n",
    "the right hand side is an array whose column vectors all independent linear\n",
    "systems. But right now the array structure of ``x`` and ``b`` do not follow\n",
    "this requirement.\n",
    "To handle this case we must pass in additional arguments that tell the\n",
    "linear solver how to reconcile these differences.\n",
    "The first thing that the linear solver must know of is the higher tensor\n",
    "form of the MPIStateArray, which is just the `tup` from before"
   ],
   "metadata": {}
  },
  {
   "outputs": [],
   "cell_type": "code",
   "source": [
    "reshape_tuple_f = tup;"
   ],
   "metadata": {},
   "execution_count": 26
  },
  {
   "cell_type": "markdown",
   "source": [
    "The second thing it needs to know is which indices correspond to a column\n",
    "and we want to make sure that these are the first set of indices that appear\n",
    "in the permutation tuple (which can be thought of as enacting\n",
    "a Tensor Transpose)."
   ],
   "metadata": {}
  },
  {
   "outputs": [],
   "cell_type": "code",
   "source": [
    "permute_tuple_f = (5, 3, 4, 6, 1, 2);"
   ],
   "metadata": {},
   "execution_count": 27
  },
  {
   "cell_type": "markdown",
   "source": [
    "It has this format since the 3 and 5 index slots\n",
    "are the ones associated with traversing a column. And the 4 index\n",
    "slot corresponds to a state.\n",
    "We also need to tell our solver which kind of Array struct to use"
   ],
   "metadata": {}
  },
  {
   "outputs": [],
   "cell_type": "code",
   "source": [
    "ArrayType = Array;"
   ],
   "metadata": {},
   "execution_count": 28
  },
  {
   "cell_type": "markdown",
   "source": [
    "We are now ready to finally define our linear solver, which uses a number\n",
    "of keyword arguments"
   ],
   "metadata": {}
  },
  {
   "outputs": [],
   "cell_type": "code",
   "source": [
    "gmres = BatchedGeneralizedMinimalResidual(\n",
    "    b,\n",
    "    tup[3] * tup[5] * tup[4],\n",
    "    tup[1] * tup[2] * tup[6];\n",
    "    atol = eps(Float64) * 100,\n",
    "    rtol = eps(Float64) * 100,\n",
    "    forward_reshape = reshape_tuple_f,\n",
    "    forward_permute = permute_tuple_f,\n",
    ");"
   ],
   "metadata": {},
   "execution_count": 29
  },
  {
   "cell_type": "markdown",
   "source": [
    "`m` is the number of gridpoints along a column. As mentioned previously,\n",
    "this is `tup[3]*tup[5]*tup[4]`. The `n` term corresponds to the batch size\n",
    "or the number of columns in this case. `atol` and `rtol` are relative and\n",
    "absolute tolerances"
   ],
   "metadata": {}
  },
  {
   "cell_type": "markdown",
   "source": [
    "All the hard work is done, now we just call our linear solver"
   ],
   "metadata": {}
  },
  {
   "outputs": [
    {
     "output_type": "execute_result",
     "data": {
      "text/plain": "52"
     },
     "metadata": {},
     "execution_count": 30
    }
   ],
   "cell_type": "code",
   "source": [
    "iters = linearsolve!(\n",
    "    columnwise_linear_operator!,\n",
    "    nothing,\n",
    "    gmres,\n",
    "    x,\n",
    "    b,\n",
    "    max_iters = tup[3] * tup[5] * tup[4],\n",
    ")"
   ],
   "metadata": {},
   "execution_count": 30
  },
  {
   "cell_type": "markdown",
   "source": [
    "We see that it converged in less than `tup[3]*tup[5] = 50` iterations.\n",
    "Let us verify that it is indeed correct by computing the exact answer\n",
    "numerically and comparing it against the iterative solver."
   ],
   "metadata": {}
  },
  {
   "outputs": [],
   "cell_type": "code",
   "source": [
    "x_exact = copy(x);\n",
    "columnwise_inverse_linear_operator!(x_exact, b);"
   ],
   "metadata": {},
   "execution_count": 31
  },
  {
   "cell_type": "markdown",
   "source": [
    "Now we can compare with some norms"
   ],
   "metadata": {}
  },
  {
   "outputs": [
    {
     "output_type": "execute_result",
     "data": {
      "text/plain": "1.2827339696812677e-13"
     },
     "metadata": {},
     "execution_count": 32
    }
   ],
   "cell_type": "code",
   "source": [
    "norm(x - x_exact) / norm(x_exact)\n",
    "columnwise_linear_operator!(x_exact, x);\n",
    "norm(x_exact - b) / norm(b)"
   ],
   "metadata": {},
   "execution_count": 32
  },
  {
   "cell_type": "markdown",
   "source": [
    "Which we see are small, given our choice of `atol` and `rtol`.\n",
    "The struct also keeps a record of its convergence rate\n",
    "in the residual member (max over all batched solvers).\n",
    "The can be visualized via"
   ],
   "metadata": {}
  },
  {
   "outputs": [
    {
     "output_type": "execute_result",
     "data": {
      "text/plain": "Plot{Plots.GRBackend() n=1}",
      "image/png": "[encoded data removed]",
      "text/html": [
       "<?xml version=\"1.0\" encoding=\"utf-8\"?>\n",
       "<svg xmlns=\"http://www.w3.org/2000/svg\" xmlns:xlink=\"http://www.w3.org/1999/xlink\" width=\"600\" height=\"400\" viewBox=\"0 0 2400 1600\">\n",
       "<defs>\n",
       "  <clipPath id=\"clip420\">\n",
       "    <rect x=\"0\" y=\"0\" width=\"2400\" height=\"1600\"/>\n",
       "  </clipPath>\n",
       "</defs>\n",
       "<path clip-path=\"url(#clip420)\" d=\"\n",
       "M0 1600 L2400 1600 L2400 0 L0 0  Z\n",
       "  \" fill=\"#ffffff\" fill-rule=\"evenodd\" fill-opacity=\"1\"/>\n",
       "<defs>\n",
       "  <clipPath id=\"clip421\">\n",
       "    <rect x=\"480\" y=\"0\" width=\"1681\" height=\"1600\"/>\n",
       "  </clipPath>\n",
       "</defs>\n",
       "<path clip-path=\"url(#clip420)\" d=\"\n",
       "M232.737 1423.18 L2352.76 1423.18 L2352.76 47.2441 L232.737 47.2441  Z\n",
       "  \" fill=\"#ffffff\" fill-rule=\"evenodd\" fill-opacity=\"1\"/>\n",
       "<defs>\n",
       "  <clipPath id=\"clip422\">\n",
       "    <rect x=\"232\" y=\"47\" width=\"2121\" height=\"1377\"/>\n",
       "  </clipPath>\n",
       "</defs>\n",
       "<polyline clip-path=\"url(#clip422)\" style=\"stroke:#000000; stroke-width:2; stroke-opacity:0.1; fill:none\" points=\"\n",
       "  606.858,1423.18 606.858,47.2441 \n",
       "  \"/>\n",
       "<polyline clip-path=\"url(#clip422)\" style=\"stroke:#000000; stroke-width:2; stroke-opacity:0.1; fill:none\" points=\"\n",
       "  1022.55,1423.18 1022.55,47.2441 \n",
       "  \"/>\n",
       "<polyline clip-path=\"url(#clip422)\" style=\"stroke:#000000; stroke-width:2; stroke-opacity:0.1; fill:none\" points=\"\n",
       "  1438.24,1423.18 1438.24,47.2441 \n",
       "  \"/>\n",
       "<polyline clip-path=\"url(#clip422)\" style=\"stroke:#000000; stroke-width:2; stroke-opacity:0.1; fill:none\" points=\"\n",
       "  1853.93,1423.18 1853.93,47.2441 \n",
       "  \"/>\n",
       "<polyline clip-path=\"url(#clip422)\" style=\"stroke:#000000; stroke-width:2; stroke-opacity:0.1; fill:none\" points=\"\n",
       "  2269.62,1423.18 2269.62,47.2441 \n",
       "  \"/>\n",
       "<polyline clip-path=\"url(#clip420)\" style=\"stroke:#000000; stroke-width:4; stroke-opacity:1; fill:none\" points=\"\n",
       "  232.737,1423.18 2352.76,1423.18 \n",
       "  \"/>\n",
       "<polyline clip-path=\"url(#clip420)\" style=\"stroke:#000000; stroke-width:4; stroke-opacity:1; fill:none\" points=\"\n",
       "  606.858,1423.18 606.858,1406.67 \n",
       "  \"/>\n",
       "<polyline clip-path=\"url(#clip420)\" style=\"stroke:#000000; stroke-width:4; stroke-opacity:1; fill:none\" points=\"\n",
       "  1022.55,1423.18 1022.55,1406.67 \n",
       "  \"/>\n",
       "<polyline clip-path=\"url(#clip420)\" style=\"stroke:#000000; stroke-width:4; stroke-opacity:1; fill:none\" points=\"\n",
       "  1438.24,1423.18 1438.24,1406.67 \n",
       "  \"/>\n",
       "<polyline clip-path=\"url(#clip420)\" style=\"stroke:#000000; stroke-width:4; stroke-opacity:1; fill:none\" points=\"\n",
       "  1853.93,1423.18 1853.93,1406.67 \n",
       "  \"/>\n",
       "<polyline clip-path=\"url(#clip420)\" style=\"stroke:#000000; stroke-width:4; stroke-opacity:1; fill:none\" points=\"\n",
       "  2269.62,1423.18 2269.62,1406.67 \n",
       "  \"/>\n",
       "<path clip-path=\"url(#clip420)\" d=\"M 0 0 M583.733 1479.92 L591.372 1479.92 L591.372 1453.55 L583.061 1455.22 L583.061 1450.96 L591.325 1449.29 L596.001 1449.29 L596.001 1479.92 L603.64 1479.92 L603.64 1483.85 L583.733 1483.85 L583.733 1479.92 Z\" fill=\"#000000\" fill-rule=\"evenodd\" fill-opacity=\"1\" /><path clip-path=\"url(#clip420)\" d=\"M 0 0 M618.709 1452.37 Q615.098 1452.37 613.27 1455.94 Q611.464 1459.48 611.464 1466.61 Q611.464 1473.71 613.27 1477.28 Q615.098 1480.82 618.709 1480.82 Q622.344 1480.82 624.149 1477.28 Q625.978 1473.71 625.978 1466.61 Q625.978 1459.48 624.149 1455.94 Q622.344 1452.37 618.709 1452.37 M618.709 1448.67 Q624.52 1448.67 627.575 1453.27 Q630.654 1457.86 630.654 1466.61 Q630.654 1475.33 627.575 1479.94 Q624.52 1484.52 618.709 1484.52 Q612.899 1484.52 609.821 1479.94 Q606.765 1475.33 606.765 1466.61 Q606.765 1457.86 609.821 1453.27 Q612.899 1448.67 618.709 1448.67 Z\" fill=\"#000000\" fill-rule=\"evenodd\" fill-opacity=\"1\" /><path clip-path=\"url(#clip420)\" d=\"M 0 0 M1003.69 1479.92 L1020.01 1479.92 L1020.01 1483.85 L998.069 1483.85 L998.069 1479.92 Q1000.73 1477.16 1005.31 1472.53 Q1009.92 1467.88 1011.1 1466.54 Q1013.35 1464.01 1014.23 1462.28 Q1015.13 1460.52 1015.13 1458.83 Q1015.13 1456.07 1013.18 1454.34 Q1011.26 1452.6 1008.16 1452.6 Q1005.96 1452.6 1003.51 1453.37 Q1001.08 1454.13 998.3 1455.68 L998.3 1450.96 Q1001.12 1449.82 1003.58 1449.25 Q1006.03 1448.67 1008.07 1448.67 Q1013.44 1448.67 1016.63 1451.35 Q1019.83 1454.04 1019.83 1458.53 Q1019.83 1460.66 1019.02 1462.58 Q1018.23 1464.48 1016.12 1467.07 Q1015.55 1467.74 1012.44 1470.96 Q1009.34 1474.15 1003.69 1479.92 Z\" fill=\"#000000\" fill-rule=\"evenodd\" fill-opacity=\"1\" /><path clip-path=\"url(#clip420)\" d=\"M 0 0 M1035.08 1452.37 Q1031.47 1452.37 1029.64 1455.94 Q1027.84 1459.48 1027.84 1466.61 Q1027.84 1473.71 1029.64 1477.28 Q1031.47 1480.82 1035.08 1480.82 Q1038.72 1480.82 1040.52 1477.28 Q1042.35 1473.71 1042.35 1466.61 Q1042.35 1459.48 1040.52 1455.94 Q1038.72 1452.37 1035.08 1452.37 M1035.08 1448.67 Q1040.89 1448.67 1043.95 1453.27 Q1047.03 1457.86 1047.03 1466.61 Q1047.03 1475.33 1043.95 1479.94 Q1040.89 1484.52 1035.08 1484.52 Q1029.27 1484.52 1026.19 1479.94 Q1023.14 1475.33 1023.14 1466.61 Q1023.14 1457.86 1026.19 1453.27 Q1029.27 1448.67 1035.08 1448.67 Z\" fill=\"#000000\" fill-rule=\"evenodd\" fill-opacity=\"1\" /><path clip-path=\"url(#clip420)\" d=\"M 0 0 M1428.98 1465.22 Q1432.34 1465.94 1434.21 1468.2 Q1436.11 1470.47 1436.11 1473.81 Q1436.11 1478.92 1432.59 1481.72 Q1429.07 1484.52 1422.59 1484.52 Q1420.41 1484.52 1418.1 1484.08 Q1415.81 1483.67 1413.35 1482.81 L1413.35 1478.3 Q1415.3 1479.43 1417.61 1480.01 Q1419.93 1480.59 1422.45 1480.59 Q1426.85 1480.59 1429.14 1478.85 Q1431.46 1477.12 1431.46 1473.81 Q1431.46 1470.75 1429.3 1469.04 Q1427.17 1467.3 1423.35 1467.3 L1419.33 1467.3 L1419.33 1463.46 L1423.54 1463.46 Q1426.99 1463.46 1428.82 1462.09 Q1430.65 1460.7 1430.65 1458.11 Q1430.65 1455.45 1428.75 1454.04 Q1426.87 1452.6 1423.35 1452.6 Q1421.43 1452.6 1419.23 1453.02 Q1417.03 1453.44 1414.4 1454.31 L1414.4 1450.15 Q1417.06 1449.41 1419.37 1449.04 Q1421.71 1448.67 1423.77 1448.67 Q1429.09 1448.67 1432.2 1451.1 Q1435.3 1453.5 1435.3 1457.63 Q1435.3 1460.5 1433.65 1462.49 Q1432.01 1464.45 1428.98 1465.22 Z\" fill=\"#000000\" fill-rule=\"evenodd\" fill-opacity=\"1\" /><path clip-path=\"url(#clip420)\" d=\"M 0 0 M1451.18 1452.37 Q1447.57 1452.37 1445.74 1455.94 Q1443.93 1459.48 1443.93 1466.61 Q1443.93 1473.71 1445.74 1477.28 Q1447.57 1480.82 1451.18 1480.82 Q1454.81 1480.82 1456.62 1477.28 Q1458.45 1473.71 1458.45 1466.61 Q1458.45 1459.48 1456.62 1455.94 Q1454.81 1452.37 1451.18 1452.37 M1451.18 1448.67 Q1456.99 1448.67 1460.04 1453.27 Q1463.12 1457.86 1463.12 1466.61 Q1463.12 1475.33 1460.04 1479.94 Q1456.99 1484.52 1451.18 1484.52 Q1445.37 1484.52 1442.29 1479.94 Q1439.23 1475.33 1439.23 1466.61 Q1439.23 1457.86 1442.29 1453.27 Q1445.37 1448.67 1451.18 1448.67 Z\" fill=\"#000000\" fill-rule=\"evenodd\" fill-opacity=\"1\" /><path clip-path=\"url(#clip420)\" d=\"M 0 0 M1843.43 1453.37 L1831.62 1471.81 L1843.43 1471.81 L1843.43 1453.37 M1842.2 1449.29 L1848.08 1449.29 L1848.08 1471.81 L1853.01 1471.81 L1853.01 1475.7 L1848.08 1475.7 L1848.08 1483.85 L1843.43 1483.85 L1843.43 1475.7 L1827.83 1475.7 L1827.83 1471.19 L1842.2 1449.29 Z\" fill=\"#000000\" fill-rule=\"evenodd\" fill-opacity=\"1\" /><path clip-path=\"url(#clip420)\" d=\"M 0 0 M1868.08 1452.37 Q1864.47 1452.37 1862.64 1455.94 Q1860.84 1459.48 1860.84 1466.61 Q1860.84 1473.71 1862.64 1477.28 Q1864.47 1480.82 1868.08 1480.82 Q1871.72 1480.82 1873.52 1477.28 Q1875.35 1473.71 1875.35 1466.61 Q1875.35 1459.48 1873.52 1455.94 Q1871.72 1452.37 1868.08 1452.37 M1868.08 1448.67 Q1873.89 1448.67 1876.95 1453.27 Q1880.03 1457.86 1880.03 1466.61 Q1880.03 1475.33 1876.95 1479.94 Q1873.89 1484.52 1868.08 1484.52 Q1862.27 1484.52 1859.19 1479.94 Q1856.14 1475.33 1856.14 1466.61 Q1856.14 1457.86 1859.19 1453.27 Q1862.27 1448.67 1868.08 1448.67 Z\" fill=\"#000000\" fill-rule=\"evenodd\" fill-opacity=\"1\" /><path clip-path=\"url(#clip420)\" d=\"M 0 0 M2246.39 1449.29 L2264.75 1449.29 L2264.75 1453.23 L2250.67 1453.23 L2250.67 1461.7 Q2251.69 1461.35 2252.71 1461.19 Q2253.73 1461 2254.75 1461 Q2260.53 1461 2263.91 1464.18 Q2267.29 1467.35 2267.29 1472.76 Q2267.29 1478.34 2263.82 1481.44 Q2260.35 1484.52 2254.03 1484.52 Q2251.85 1484.52 2249.58 1484.15 Q2247.34 1483.78 2244.93 1483.04 L2244.93 1478.34 Q2247.01 1479.48 2249.24 1480.03 Q2251.46 1480.59 2253.94 1480.59 Q2257.94 1480.59 2260.28 1478.48 Q2262.62 1476.38 2262.62 1472.76 Q2262.62 1469.15 2260.28 1467.05 Q2257.94 1464.94 2253.94 1464.94 Q2252.06 1464.94 2250.19 1465.36 Q2248.33 1465.77 2246.39 1466.65 L2246.39 1449.29 Z\" fill=\"#000000\" fill-rule=\"evenodd\" fill-opacity=\"1\" /><path clip-path=\"url(#clip420)\" d=\"M 0 0 M2282.36 1452.37 Q2278.75 1452.37 2276.92 1455.94 Q2275.12 1459.48 2275.12 1466.61 Q2275.12 1473.71 2276.92 1477.28 Q2278.75 1480.82 2282.36 1480.82 Q2286 1480.82 2287.8 1477.28 Q2289.63 1473.71 2289.63 1466.61 Q2289.63 1459.48 2287.8 1455.94 Q2286 1452.37 2282.36 1452.37 M2282.36 1448.67 Q2288.17 1448.67 2291.23 1453.27 Q2294.31 1457.86 2294.31 1466.61 Q2294.31 1475.33 2291.23 1479.94 Q2288.17 1484.52 2282.36 1484.52 Q2276.55 1484.52 2273.47 1479.94 Q2270.42 1475.33 2270.42 1466.61 Q2270.42 1457.86 2273.47 1453.27 Q2276.55 1448.67 2282.36 1448.67 Z\" fill=\"#000000\" fill-rule=\"evenodd\" fill-opacity=\"1\" /><path clip-path=\"url(#clip420)\" d=\"M 0 0 M1159.66 1532.4 L1165.51 1532.4 L1165.51 1568.04 L1159.66 1568.04 L1159.66 1532.4 M1159.66 1518.52 L1165.51 1518.52 L1165.51 1525.93 L1159.66 1525.93 L1159.66 1518.52 Z\" fill=\"#000000\" fill-rule=\"evenodd\" fill-opacity=\"1\" /><path clip-path=\"url(#clip420)\" d=\"M 0 0 M1177.45 1522.27 L1177.45 1532.4 L1189.51 1532.4 L1189.51 1536.95 L1177.45 1536.95 L1177.45 1556.3 Q1177.45 1560.66 1178.63 1561.9 Q1179.83 1563.14 1183.49 1563.14 L1189.51 1563.14 L1189.51 1568.04 L1183.49 1568.04 Q1176.72 1568.04 1174.14 1565.53 Q1171.56 1562.98 1171.56 1556.3 L1171.56 1536.95 L1167.26 1536.95 L1167.26 1532.4 L1171.56 1532.4 L1171.56 1522.27 L1177.45 1522.27 Z\" fill=\"#000000\" fill-rule=\"evenodd\" fill-opacity=\"1\" /><path clip-path=\"url(#clip420)\" d=\"M 0 0 M1226.15 1548.76 L1226.15 1551.62 L1199.22 1551.62 Q1199.6 1557.67 1202.85 1560.85 Q1206.12 1564 1211.95 1564 Q1215.32 1564 1218.47 1563.17 Q1221.66 1562.35 1224.78 1560.69 L1224.78 1566.23 Q1221.63 1567.57 1218.32 1568.27 Q1215.01 1568.97 1211.6 1568.97 Q1203.07 1568.97 1198.07 1564 Q1193.11 1559.04 1193.11 1550.57 Q1193.11 1541.82 1197.82 1536.69 Q1202.56 1531.54 1210.58 1531.54 Q1217.77 1531.54 1221.94 1536.18 Q1226.15 1540.8 1226.15 1548.76 M1220.29 1547.04 Q1220.22 1542.23 1217.58 1539.37 Q1214.97 1536.5 1210.64 1536.5 Q1205.74 1536.5 1202.78 1539.27 Q1199.85 1542.04 1199.41 1547.07 L1220.29 1547.04 Z\" fill=\"#000000\" fill-rule=\"evenodd\" fill-opacity=\"1\" /><path clip-path=\"url(#clip420)\" d=\"M 0 0 M1252.94 1537.87 Q1251.96 1537.3 1250.78 1537.04 Q1249.63 1536.76 1248.23 1536.76 Q1243.27 1536.76 1240.6 1540 Q1237.95 1543.22 1237.95 1549.27 L1237.95 1568.04 L1232.07 1568.04 L1232.07 1532.4 L1237.95 1532.4 L1237.95 1537.93 Q1239.8 1534.69 1242.76 1533.13 Q1245.72 1531.54 1249.95 1531.54 Q1250.56 1531.54 1251.29 1531.63 Q1252.02 1531.7 1252.91 1531.85 L1252.94 1537.87 Z\" fill=\"#000000\" fill-rule=\"evenodd\" fill-opacity=\"1\" /><path clip-path=\"url(#clip420)\" d=\"M 0 0 M1275.29 1550.12 Q1268.19 1550.12 1265.45 1551.75 Q1262.72 1553.37 1262.72 1557.29 Q1262.72 1560.4 1264.75 1562.25 Q1266.82 1564.07 1270.35 1564.07 Q1275.22 1564.07 1278.15 1560.63 Q1281.11 1557.16 1281.11 1551.43 L1281.11 1550.12 L1275.29 1550.12 M1286.97 1547.71 L1286.97 1568.04 L1281.11 1568.04 L1281.11 1562.63 Q1279.11 1565.88 1276.12 1567.44 Q1273.12 1568.97 1268.8 1568.97 Q1263.32 1568.97 1260.07 1565.91 Q1256.86 1562.82 1256.86 1557.67 Q1256.86 1551.65 1260.87 1548.6 Q1264.91 1545.54 1272.9 1545.54 L1281.11 1545.54 L1281.11 1544.97 Q1281.11 1540.93 1278.44 1538.73 Q1275.8 1536.5 1270.99 1536.5 Q1267.94 1536.5 1265.04 1537.23 Q1262.14 1537.97 1259.47 1539.43 L1259.47 1534.02 Q1262.68 1532.78 1265.71 1532.17 Q1268.73 1531.54 1271.6 1531.54 Q1279.33 1531.54 1283.15 1535.55 Q1286.97 1539.56 1286.97 1547.71 Z\" fill=\"#000000\" fill-rule=\"evenodd\" fill-opacity=\"1\" /><path clip-path=\"url(#clip420)\" d=\"M 0 0 M1298.91 1522.27 L1298.91 1532.4 L1310.97 1532.4 L1310.97 1536.95 L1298.91 1536.95 L1298.91 1556.3 Q1298.91 1560.66 1300.08 1561.9 Q1301.29 1563.14 1304.95 1563.14 L1310.97 1563.14 L1310.97 1568.04 L1304.95 1568.04 Q1298.17 1568.04 1295.59 1565.53 Q1293.02 1562.98 1293.02 1556.3 L1293.02 1536.95 L1288.72 1536.95 L1288.72 1532.4 L1293.02 1532.4 L1293.02 1522.27 L1298.91 1522.27 Z\" fill=\"#000000\" fill-rule=\"evenodd\" fill-opacity=\"1\" /><path clip-path=\"url(#clip420)\" d=\"M 0 0 M1317.11 1532.4 L1322.97 1532.4 L1322.97 1568.04 L1317.11 1568.04 L1317.11 1532.4 M1317.11 1518.52 L1322.97 1518.52 L1322.97 1525.93 L1317.11 1525.93 L1317.11 1518.52 Z\" fill=\"#000000\" fill-rule=\"evenodd\" fill-opacity=\"1\" /><path clip-path=\"url(#clip420)\" d=\"M 0 0 M1342.92 1536.5 Q1338.21 1536.5 1335.48 1540.19 Q1332.74 1543.85 1332.74 1550.25 Q1332.74 1556.65 1335.44 1560.34 Q1338.18 1564 1342.92 1564 Q1347.6 1564 1350.34 1560.31 Q1353.08 1556.62 1353.08 1550.25 Q1353.08 1543.92 1350.34 1540.23 Q1347.6 1536.5 1342.92 1536.5 M1342.92 1531.54 Q1350.56 1531.54 1354.92 1536.5 Q1359.28 1541.47 1359.28 1550.25 Q1359.28 1559 1354.92 1564 Q1350.56 1568.97 1342.92 1568.97 Q1335.25 1568.97 1330.89 1564 Q1326.56 1559 1326.56 1550.25 Q1326.56 1541.47 1330.89 1536.5 Q1335.25 1531.54 1342.92 1531.54 Z\" fill=\"#000000\" fill-rule=\"evenodd\" fill-opacity=\"1\" /><path clip-path=\"url(#clip420)\" d=\"M 0 0 M1395.06 1546.53 L1395.06 1568.04 L1389.2 1568.04 L1389.2 1546.72 Q1389.2 1541.66 1387.23 1539.14 Q1385.26 1536.63 1381.31 1536.63 Q1376.57 1536.63 1373.83 1539.65 Q1371.09 1542.68 1371.09 1547.9 L1371.09 1568.04 L1365.2 1568.04 L1365.2 1532.4 L1371.09 1532.4 L1371.09 1537.93 Q1373.19 1534.72 1376.03 1533.13 Q1378.89 1531.54 1382.61 1531.54 Q1388.76 1531.54 1391.91 1535.36 Q1395.06 1539.14 1395.06 1546.53 Z\" fill=\"#000000\" fill-rule=\"evenodd\" fill-opacity=\"1\" /><path clip-path=\"url(#clip420)\" d=\"M 0 0 M1423.93 1533.45 L1423.93 1538.98 Q1421.44 1537.71 1418.77 1537.07 Q1416.1 1536.44 1413.23 1536.44 Q1408.87 1536.44 1406.68 1537.77 Q1404.51 1539.11 1404.51 1541.79 Q1404.51 1543.82 1406.07 1545 Q1407.63 1546.15 1412.34 1547.2 L1414.35 1547.64 Q1420.59 1548.98 1423.2 1551.43 Q1425.84 1553.85 1425.84 1558.21 Q1425.84 1563.17 1421.89 1566.07 Q1417.98 1568.97 1411.1 1568.97 Q1408.24 1568.97 1405.12 1568.39 Q1402.03 1567.85 1398.59 1566.74 L1398.59 1560.69 Q1401.84 1562.38 1404.99 1563.24 Q1408.14 1564.07 1411.23 1564.07 Q1415.37 1564.07 1417.59 1562.66 Q1419.82 1561.23 1419.82 1558.65 Q1419.82 1556.27 1418.2 1554.99 Q1416.61 1553.72 1411.16 1552.54 L1409.13 1552.07 Q1403.68 1550.92 1401.27 1548.56 Q1398.85 1546.18 1398.85 1542.04 Q1398.85 1537.01 1402.41 1534.27 Q1405.98 1531.54 1412.53 1531.54 Q1415.78 1531.54 1418.64 1532.01 Q1421.51 1532.49 1423.93 1533.45 Z\" fill=\"#000000\" fill-rule=\"evenodd\" fill-opacity=\"1\" /><polyline clip-path=\"url(#clip422)\" style=\"stroke:#000000; stroke-width:2; stroke-opacity:0.1; fill:none\" points=\"\n",
       "  232.737,1423.18 2352.76,1423.18 \n",
       "  \"/>\n",
       "<polyline clip-path=\"url(#clip422)\" style=\"stroke:#000000; stroke-width:2; stroke-opacity:0.1; fill:none\" points=\"\n",
       "  232.737,1018.49 2352.76,1018.49 \n",
       "  \"/>\n",
       "<polyline clip-path=\"url(#clip422)\" style=\"stroke:#000000; stroke-width:2; stroke-opacity:0.1; fill:none\" points=\"\n",
       "  232.737,613.806 2352.76,613.806 \n",
       "  \"/>\n",
       "<polyline clip-path=\"url(#clip422)\" style=\"stroke:#000000; stroke-width:2; stroke-opacity:0.1; fill:none\" points=\"\n",
       "  232.737,209.119 2352.76,209.119 \n",
       "  \"/>\n",
       "<polyline clip-path=\"url(#clip420)\" style=\"stroke:#000000; stroke-width:4; stroke-opacity:1; fill:none\" points=\"\n",
       "  232.737,1423.18 232.737,47.2441 \n",
       "  \"/>\n",
       "<polyline clip-path=\"url(#clip420)\" style=\"stroke:#000000; stroke-width:4; stroke-opacity:1; fill:none\" points=\"\n",
       "  232.737,1423.18 258.177,1423.18 \n",
       "  \"/>\n",
       "<polyline clip-path=\"url(#clip420)\" style=\"stroke:#000000; stroke-width:4; stroke-opacity:1; fill:none\" points=\"\n",
       "  232.737,1018.49 258.177,1018.49 \n",
       "  \"/>\n",
       "<polyline clip-path=\"url(#clip420)\" style=\"stroke:#000000; stroke-width:4; stroke-opacity:1; fill:none\" points=\"\n",
       "  232.737,613.806 258.177,613.806 \n",
       "  \"/>\n",
       "<polyline clip-path=\"url(#clip420)\" style=\"stroke:#000000; stroke-width:4; stroke-opacity:1; fill:none\" points=\"\n",
       "  232.737,209.119 258.177,209.119 \n",
       "  \"/>\n",
       "<path clip-path=\"url(#clip420)\" d=\"M 0 0 M115.256 1423.63 L144.931 1423.63 L144.931 1427.57 L115.256 1427.57 L115.256 1423.63 Z\" fill=\"#000000\" fill-rule=\"evenodd\" fill-opacity=\"1\" /><path clip-path=\"url(#clip420)\" d=\"M 0 0 M150.811 1436.52 L158.45 1436.52 L158.45 1410.16 L150.14 1411.83 L150.14 1407.57 L158.403 1405.9 L163.079 1405.9 L163.079 1436.52 L170.718 1436.52 L170.718 1440.46 L150.811 1440.46 L150.811 1436.52 Z\" fill=\"#000000\" fill-rule=\"evenodd\" fill-opacity=\"1\" /><path clip-path=\"url(#clip420)\" d=\"M 0 0 M175.834 1405.9 L194.19 1405.9 L194.19 1409.84 L180.116 1409.84 L180.116 1418.31 Q181.135 1417.96 182.153 1417.8 Q183.172 1417.61 184.19 1417.61 Q189.977 1417.61 193.357 1420.78 Q196.737 1423.96 196.737 1429.37 Q196.737 1434.95 193.264 1438.05 Q189.792 1441.13 183.473 1441.13 Q181.297 1441.13 179.028 1440.76 Q176.783 1440.39 174.376 1439.65 L174.376 1434.95 Q176.459 1436.08 178.681 1436.64 Q180.903 1437.2 183.38 1437.2 Q187.385 1437.2 189.723 1435.09 Q192.061 1432.98 192.061 1429.37 Q192.061 1425.76 189.723 1423.65 Q187.385 1421.55 183.38 1421.55 Q181.505 1421.55 179.63 1421.96 Q177.778 1422.38 175.834 1423.26 L175.834 1405.9 Z\" fill=\"#000000\" fill-rule=\"evenodd\" fill-opacity=\"1\" /><path clip-path=\"url(#clip420)\" d=\"M 0 0 M114.26 1018.94 L143.936 1018.94 L143.936 1022.88 L114.26 1022.88 L114.26 1018.94 Z\" fill=\"#000000\" fill-rule=\"evenodd\" fill-opacity=\"1\" /><path clip-path=\"url(#clip420)\" d=\"M 0 0 M149.816 1031.84 L157.454 1031.84 L157.454 1005.47 L149.144 1007.14 L149.144 1002.88 L157.408 1001.21 L162.084 1001.21 L162.084 1031.84 L169.723 1031.84 L169.723 1035.77 L149.816 1035.77 L149.816 1031.84 Z\" fill=\"#000000\" fill-rule=\"evenodd\" fill-opacity=\"1\" /><path clip-path=\"url(#clip420)\" d=\"M 0 0 M184.792 1004.29 Q181.181 1004.29 179.352 1007.86 Q177.547 1011.4 177.547 1018.53 Q177.547 1025.63 179.352 1029.2 Q181.181 1032.74 184.792 1032.74 Q188.426 1032.74 190.232 1029.2 Q192.061 1025.63 192.061 1018.53 Q192.061 1011.4 190.232 1007.86 Q188.426 1004.29 184.792 1004.29 M184.792 1000.59 Q190.602 1000.59 193.658 1005.19 Q196.737 1009.78 196.737 1018.53 Q196.737 1027.25 193.658 1031.86 Q190.602 1036.44 184.792 1036.44 Q178.982 1036.44 175.903 1031.86 Q172.848 1027.25 172.848 1018.53 Q172.848 1009.78 175.903 1005.19 Q178.982 1000.59 184.792 1000.59 Z\" fill=\"#000000\" fill-rule=\"evenodd\" fill-opacity=\"1\" /><path clip-path=\"url(#clip420)\" d=\"M 0 0 M141.042 614.257 L170.718 614.257 L170.718 618.192 L141.042 618.192 L141.042 614.257 Z\" fill=\"#000000\" fill-rule=\"evenodd\" fill-opacity=\"1\" /><path clip-path=\"url(#clip420)\" d=\"M 0 0 M175.834 596.526 L194.19 596.526 L194.19 600.461 L180.116 600.461 L180.116 608.933 Q181.135 608.586 182.153 608.424 Q183.172 608.239 184.19 608.239 Q189.977 608.239 193.357 611.41 Q196.737 614.581 196.737 619.998 Q196.737 625.577 193.264 628.678 Q189.792 631.757 183.473 631.757 Q181.297 631.757 179.028 631.387 Q176.783 631.016 174.376 630.276 L174.376 625.577 Q176.459 626.711 178.681 627.266 Q180.903 627.822 183.38 627.822 Q187.385 627.822 189.723 625.716 Q192.061 623.609 192.061 619.998 Q192.061 616.387 189.723 614.28 Q187.385 612.174 183.38 612.174 Q181.505 612.174 179.63 612.591 Q177.778 613.007 175.834 613.887 L175.834 596.526 Z\" fill=\"#000000\" fill-rule=\"evenodd\" fill-opacity=\"1\" /><path clip-path=\"url(#clip420)\" d=\"M 0 0 M184.792 194.918 Q181.181 194.918 179.352 198.482 Q177.547 202.024 177.547 209.154 Q177.547 216.26 179.352 219.825 Q181.181 223.366 184.792 223.366 Q188.426 223.366 190.232 219.825 Q192.061 216.26 192.061 209.154 Q192.061 202.024 190.232 198.482 Q188.426 194.918 184.792 194.918 M184.792 191.214 Q190.602 191.214 193.658 195.82 Q196.737 200.404 196.737 209.154 Q196.737 217.88 193.658 222.487 Q190.602 227.07 184.792 227.07 Q178.982 227.07 175.903 222.487 Q172.848 217.88 172.848 209.154 Q172.848 200.404 175.903 195.82 Q178.982 191.214 184.792 191.214 Z\" fill=\"#000000\" fill-rule=\"evenodd\" fill-opacity=\"1\" /><path clip-path=\"url(#clip420)\" d=\"M 0 0 M14.479 931.514 L14.479 925.658 L64.0042 925.658 L64.0042 931.514 L14.479 931.514 Z\" fill=\"#000000\" fill-rule=\"evenodd\" fill-opacity=\"1\" /><path clip-path=\"url(#clip420)\" d=\"M 0 0 M32.4621 905.702 Q32.4621 910.412 36.1542 913.149 Q39.8145 915.887 46.212 915.887 Q52.6095 915.887 56.3017 913.181 Q59.9619 910.444 59.9619 905.702 Q59.9619 901.023 56.2698 898.285 Q52.5777 895.548 46.212 895.548 Q39.8781 895.548 36.186 898.285 Q32.4621 901.023 32.4621 905.702 M27.4968 905.702 Q27.4968 898.063 32.4621 893.702 Q37.4273 889.342 46.212 889.342 Q54.9649 889.342 59.9619 893.702 Q64.9272 898.063 64.9272 905.702 Q64.9272 913.372 59.9619 917.733 Q54.9649 922.061 46.212 922.061 Q37.4273 922.061 32.4621 917.733 Q27.4968 913.372 27.4968 905.702 Z\" fill=\"#000000\" fill-rule=\"evenodd\" fill-opacity=\"1\" /><path clip-path=\"url(#clip420)\" d=\"M 0 0 M45.7664 859.741 Q39.4007 859.741 35.8996 862.383 Q32.3984 864.993 32.3984 869.735 Q32.3984 874.446 35.8996 877.088 Q39.4007 879.698 45.7664 879.698 Q52.1003 879.698 55.6014 877.088 Q59.1026 874.446 59.1026 869.735 Q59.1026 864.993 55.6014 862.383 Q52.1003 859.741 45.7664 859.741 M59.58 853.885 Q68.683 853.885 73.1071 857.927 Q77.5631 861.969 77.5631 870.308 Q77.5631 873.396 77.0857 876.133 Q76.6401 878.87 75.6852 881.448 L69.9879 881.448 Q71.3884 878.87 72.0568 876.356 Q72.7252 873.841 72.7252 871.231 Q72.7252 865.47 69.7015 862.606 Q66.7096 859.741 60.6303 859.741 L57.7339 859.741 Q60.885 861.555 62.4446 864.388 Q64.0042 867.221 64.0042 871.168 Q64.0042 877.724 59.0071 881.735 Q54.01 885.745 45.7664 885.745 Q37.491 885.745 32.4939 881.735 Q27.4968 877.724 27.4968 871.168 Q27.4968 867.221 29.0564 864.388 Q30.616 861.555 33.7671 859.741 L28.3562 859.741 L28.3562 853.885 L59.58 853.885 Z\" fill=\"#000000\" fill-rule=\"evenodd\" fill-opacity=\"1\" /><path clip-path=\"url(#clip420)\" d=\"M 0 0 M58.5933 845.8 L58.5933 835.297 L22.3406 835.297 L24.6323 846.723 L18.7758 846.723 L16.4842 835.36 L16.4842 828.931 L58.5933 828.931 L58.5933 818.428 L64.0042 818.428 L64.0042 845.8 L58.5933 845.8 Z\" fill=\"#000000\" fill-rule=\"evenodd\" fill-opacity=\"1\" /><path clip-path=\"url(#clip420)\" d=\"M 0 0 M20.7174 797.707 Q20.7174 802.673 25.6189 805.187 Q30.4887 807.67 40.2919 807.67 Q50.0633 807.67 54.9649 805.187 Q59.8346 802.673 59.8346 797.707 Q59.8346 792.71 54.9649 790.228 Q50.0633 787.713 40.2919 787.713 Q30.4887 787.713 25.6189 790.228 Q20.7174 792.71 20.7174 797.707 M15.6248 797.707 Q15.6248 789.718 21.9587 785.517 Q28.2607 781.284 40.2919 781.284 Q52.2913 781.284 58.6251 785.517 Q64.9272 789.718 64.9272 797.707 Q64.9272 805.696 58.6251 809.929 Q52.2913 814.131 40.2919 814.131 Q28.2607 814.131 21.9587 809.929 Q15.6248 805.696 15.6248 797.707 Z\" fill=\"#000000\" fill-rule=\"evenodd\" fill-opacity=\"1\" /><path clip-path=\"url(#clip420)\" d=\"M 0 0 M33.8307 733.764 Q33.2578 734.75 33.0032 735.928 Q32.7167 737.074 32.7167 738.474 Q32.7167 743.44 35.9632 746.113 Q39.1779 748.755 45.2253 748.755 L64.0042 748.755 L64.0042 754.643 L28.3562 754.643 L28.3562 748.755 L33.8944 748.755 Q30.6479 746.909 29.0883 743.949 Q27.4968 740.989 27.4968 736.756 Q27.4968 736.151 27.5923 735.419 Q27.656 734.687 27.8151 733.796 L33.8307 733.764 Z\" fill=\"#000000\" fill-rule=\"evenodd\" fill-opacity=\"1\" /><path clip-path=\"url(#clip420)\" d=\"M 0 0 M44.7161 698.561 L47.5806 698.561 L47.5806 725.488 Q53.6281 725.106 56.8109 721.86 Q59.9619 718.582 59.9619 712.757 Q59.9619 709.383 59.1344 706.232 Q58.3069 703.049 56.6518 699.93 L62.1899 699.93 Q63.5267 703.081 64.227 706.391 Q64.9272 709.701 64.9272 713.107 Q64.9272 721.637 59.9619 726.634 Q54.9967 731.599 46.5303 731.599 Q37.7774 731.599 32.6531 726.889 Q27.4968 722.146 27.4968 714.126 Q27.4968 706.932 32.1438 702.763 Q36.7589 698.561 44.7161 698.561 M42.9973 704.418 Q38.1912 704.482 35.3266 707.123 Q32.4621 709.733 32.4621 714.062 Q32.4621 718.964 35.2312 721.924 Q38.0002 724.852 43.0292 725.297 L42.9973 704.418 Z\" fill=\"#000000\" fill-rule=\"evenodd\" fill-opacity=\"1\" /><path clip-path=\"url(#clip420)\" d=\"M 0 0 M29.4065 669.693 L34.9447 669.693 Q33.6716 672.176 33.035 674.849 Q32.3984 677.523 32.3984 680.387 Q32.3984 684.748 33.7352 686.944 Q35.072 689.108 37.7456 689.108 Q39.7826 689.108 40.9603 687.549 Q42.1061 685.989 43.1565 681.279 L43.6021 679.273 Q44.9389 673.035 47.3897 670.425 Q49.8086 667.783 54.1691 667.783 Q59.1344 667.783 62.0308 671.73 Q64.9272 675.645 64.9272 682.52 Q64.9272 685.384 64.3543 688.504 Q63.8132 691.591 62.6992 695.028 L56.6518 695.028 Q58.3387 691.782 59.198 688.631 Q60.0256 685.48 60.0256 682.393 Q60.0256 678.255 58.6251 676.027 Q57.1929 673.799 54.6147 673.799 Q52.2276 673.799 50.9545 675.422 Q49.6813 677.013 48.5037 682.456 L48.0262 684.493 Q46.8804 689.936 44.5251 692.355 Q42.138 694.774 38.0002 694.774 Q32.9713 694.774 30.2341 691.209 Q27.4968 687.644 27.4968 681.088 Q27.4968 677.841 27.9743 674.976 Q28.4517 672.112 29.4065 669.693 Z\" fill=\"#000000\" fill-rule=\"evenodd\" fill-opacity=\"1\" /><path clip-path=\"url(#clip420)\" d=\"M 0 0 M28.3562 661.64 L28.3562 655.784 L64.0042 655.784 L64.0042 661.64 L28.3562 661.64 M14.479 661.64 L14.479 655.784 L21.895 655.784 L21.895 661.64 L14.479 661.64 Z\" fill=\"#000000\" fill-rule=\"evenodd\" fill-opacity=\"1\" /><path clip-path=\"url(#clip420)\" d=\"M 0 0 M33.7671 626.183 L14.479 626.183 L14.479 620.327 L64.0042 620.327 L64.0042 626.183 L58.657 626.183 Q61.8398 628.029 63.3994 630.862 Q64.9272 633.663 64.9272 637.61 Q64.9272 644.071 59.771 648.145 Q54.6147 652.187 46.212 652.187 Q37.8093 652.187 32.6531 648.145 Q27.4968 644.071 27.4968 637.61 Q27.4968 633.663 29.0564 630.862 Q30.5842 628.029 33.7671 626.183 M46.212 646.14 Q52.6732 646.14 56.3653 643.498 Q60.0256 640.824 60.0256 636.177 Q60.0256 631.531 56.3653 628.857 Q52.6732 626.183 46.212 626.183 Q39.7508 626.183 36.0905 628.857 Q32.3984 631.531 32.3984 636.177 Q32.3984 640.824 36.0905 643.498 Q39.7508 646.14 46.212 646.14 Z\" fill=\"#000000\" fill-rule=\"evenodd\" fill-opacity=\"1\" /><path clip-path=\"url(#clip420)\" d=\"M 0 0 M49.9359 614.789 L28.3562 614.789 L28.3562 608.932 L49.7131 608.932 Q54.7739 608.932 57.3202 606.959 Q59.8346 604.986 59.8346 601.039 Q59.8346 596.296 56.8109 593.559 Q53.7872 590.79 48.5673 590.79 L28.3562 590.79 L28.3562 584.934 L64.0042 584.934 L64.0042 590.79 L58.5296 590.79 Q61.7762 592.923 63.3676 595.755 Q64.9272 598.556 64.9272 602.28 Q64.9272 608.423 61.1078 611.606 Q57.2883 614.789 49.9359 614.789 M27.4968 600.052 L27.4968 600.052 Z\" fill=\"#000000\" fill-rule=\"evenodd\" fill-opacity=\"1\" /><path clip-path=\"url(#clip420)\" d=\"M 0 0 M46.0847 562.59 Q46.0847 569.688 47.7079 572.425 Q49.3312 575.162 53.2461 575.162 Q56.3653 575.162 58.2114 573.125 Q60.0256 571.056 60.0256 567.523 Q60.0256 562.654 56.5881 559.725 Q53.1188 556.765 47.3897 556.765 L46.0847 556.765 L46.0847 562.59 M43.6657 550.909 L64.0042 550.909 L64.0042 556.765 L58.5933 556.765 Q61.8398 558.77 63.3994 561.762 Q64.9272 564.754 64.9272 569.083 Q64.9272 574.557 61.8716 577.804 Q58.7843 581.019 53.6281 581.019 Q47.6125 581.019 44.5569 577.008 Q41.5014 572.966 41.5014 564.977 L41.5014 556.765 L40.9285 556.765 Q36.8862 556.765 34.6901 559.439 Q32.4621 562.081 32.4621 566.887 Q32.4621 569.942 33.1941 572.839 Q33.9262 575.735 35.3903 578.409 L29.9795 578.409 Q28.7381 575.194 28.1334 572.17 Q27.4968 569.147 27.4968 566.282 Q27.4968 558.548 31.5072 554.728 Q35.5176 550.909 43.6657 550.909 Z\" fill=\"#000000\" fill-rule=\"evenodd\" fill-opacity=\"1\" /><path clip-path=\"url(#clip420)\" d=\"M 0 0 M14.479 544.766 L14.479 538.909 L64.0042 538.909 L64.0042 544.766 L14.479 544.766 Z\" fill=\"#000000\" fill-rule=\"evenodd\" fill-opacity=\"1\" /><polyline clip-path=\"url(#clip422)\" style=\"stroke:#009af9; stroke-width:4; stroke-opacity:1; fill:none\" points=\"\n",
       "  232.737,1135.59 274.306,1568.74 315.875,1497.27 357.444,1785.16 399.013,1556.3 440.582,1814.48 482.151,1809.84 523.72,1883.01 \n",
       "  \"/>\n",
       "</svg>\n"
      ],
      "image/svg+xml": [
       "<?xml version=\"1.0\" encoding=\"utf-8\"?>\n",
       "<svg xmlns=\"http://www.w3.org/2000/svg\" xmlns:xlink=\"http://www.w3.org/1999/xlink\" width=\"600\" height=\"400\" viewBox=\"0 0 2400 1600\">\n",
       "<defs>\n",
       "  <clipPath id=\"clip390\">\n",
       "    <rect x=\"0\" y=\"0\" width=\"2400\" height=\"1600\"/>\n",
       "  </clipPath>\n",
       "</defs>\n",
       "<path clip-path=\"url(#clip390)\" d=\"\n",
       "M0 1600 L2400 1600 L2400 0 L0 0  Z\n",
       "  \" fill=\"#ffffff\" fill-rule=\"evenodd\" fill-opacity=\"1\"/>\n",
       "<defs>\n",
       "  <clipPath id=\"clip391\">\n",
       "    <rect x=\"480\" y=\"0\" width=\"1681\" height=\"1600\"/>\n",
       "  </clipPath>\n",
       "</defs>\n",
       "<path clip-path=\"url(#clip390)\" d=\"\n",
       "M232.737 1423.18 L2352.76 1423.18 L2352.76 47.2441 L232.737 47.2441  Z\n",
       "  \" fill=\"#ffffff\" fill-rule=\"evenodd\" fill-opacity=\"1\"/>\n",
       "<defs>\n",
       "  <clipPath id=\"clip392\">\n",
       "    <rect x=\"232\" y=\"47\" width=\"2121\" height=\"1377\"/>\n",
       "  </clipPath>\n",
       "</defs>\n",
       "<polyline clip-path=\"url(#clip392)\" style=\"stroke:#000000; stroke-width:2; stroke-opacity:0.1; fill:none\" points=\"\n",
       "  606.858,1423.18 606.858,47.2441 \n",
       "  \"/>\n",
       "<polyline clip-path=\"url(#clip392)\" style=\"stroke:#000000; stroke-width:2; stroke-opacity:0.1; fill:none\" points=\"\n",
       "  1022.55,1423.18 1022.55,47.2441 \n",
       "  \"/>\n",
       "<polyline clip-path=\"url(#clip392)\" style=\"stroke:#000000; stroke-width:2; stroke-opacity:0.1; fill:none\" points=\"\n",
       "  1438.24,1423.18 1438.24,47.2441 \n",
       "  \"/>\n",
       "<polyline clip-path=\"url(#clip392)\" style=\"stroke:#000000; stroke-width:2; stroke-opacity:0.1; fill:none\" points=\"\n",
       "  1853.93,1423.18 1853.93,47.2441 \n",
       "  \"/>\n",
       "<polyline clip-path=\"url(#clip392)\" style=\"stroke:#000000; stroke-width:2; stroke-opacity:0.1; fill:none\" points=\"\n",
       "  2269.62,1423.18 2269.62,47.2441 \n",
       "  \"/>\n",
       "<polyline clip-path=\"url(#clip390)\" style=\"stroke:#000000; stroke-width:4; stroke-opacity:1; fill:none\" points=\"\n",
       "  232.737,1423.18 2352.76,1423.18 \n",
       "  \"/>\n",
       "<polyline clip-path=\"url(#clip390)\" style=\"stroke:#000000; stroke-width:4; stroke-opacity:1; fill:none\" points=\"\n",
       "  606.858,1423.18 606.858,1406.67 \n",
       "  \"/>\n",
       "<polyline clip-path=\"url(#clip390)\" style=\"stroke:#000000; stroke-width:4; stroke-opacity:1; fill:none\" points=\"\n",
       "  1022.55,1423.18 1022.55,1406.67 \n",
       "  \"/>\n",
       "<polyline clip-path=\"url(#clip390)\" style=\"stroke:#000000; stroke-width:4; stroke-opacity:1; fill:none\" points=\"\n",
       "  1438.24,1423.18 1438.24,1406.67 \n",
       "  \"/>\n",
       "<polyline clip-path=\"url(#clip390)\" style=\"stroke:#000000; stroke-width:4; stroke-opacity:1; fill:none\" points=\"\n",
       "  1853.93,1423.18 1853.93,1406.67 \n",
       "  \"/>\n",
       "<polyline clip-path=\"url(#clip390)\" style=\"stroke:#000000; stroke-width:4; stroke-opacity:1; fill:none\" points=\"\n",
       "  2269.62,1423.18 2269.62,1406.67 \n",
       "  \"/>\n",
       "<path clip-path=\"url(#clip390)\" d=\"M 0 0 M583.733 1479.92 L591.372 1479.92 L591.372 1453.55 L583.061 1455.22 L583.061 1450.96 L591.325 1449.29 L596.001 1449.29 L596.001 1479.92 L603.64 1479.92 L603.64 1483.85 L583.733 1483.85 L583.733 1479.92 Z\" fill=\"#000000\" fill-rule=\"evenodd\" fill-opacity=\"1\" /><path clip-path=\"url(#clip390)\" d=\"M 0 0 M618.709 1452.37 Q615.098 1452.37 613.27 1455.94 Q611.464 1459.48 611.464 1466.61 Q611.464 1473.71 613.27 1477.28 Q615.098 1480.82 618.709 1480.82 Q622.344 1480.82 624.149 1477.28 Q625.978 1473.71 625.978 1466.61 Q625.978 1459.48 624.149 1455.94 Q622.344 1452.37 618.709 1452.37 M618.709 1448.67 Q624.52 1448.67 627.575 1453.27 Q630.654 1457.86 630.654 1466.61 Q630.654 1475.33 627.575 1479.94 Q624.52 1484.52 618.709 1484.52 Q612.899 1484.52 609.821 1479.94 Q606.765 1475.33 606.765 1466.61 Q606.765 1457.86 609.821 1453.27 Q612.899 1448.67 618.709 1448.67 Z\" fill=\"#000000\" fill-rule=\"evenodd\" fill-opacity=\"1\" /><path clip-path=\"url(#clip390)\" d=\"M 0 0 M1003.69 1479.92 L1020.01 1479.92 L1020.01 1483.85 L998.069 1483.85 L998.069 1479.92 Q1000.73 1477.16 1005.31 1472.53 Q1009.92 1467.88 1011.1 1466.54 Q1013.35 1464.01 1014.23 1462.28 Q1015.13 1460.52 1015.13 1458.83 Q1015.13 1456.07 1013.18 1454.34 Q1011.26 1452.6 1008.16 1452.6 Q1005.96 1452.6 1003.51 1453.37 Q1001.08 1454.13 998.3 1455.68 L998.3 1450.96 Q1001.12 1449.82 1003.58 1449.25 Q1006.03 1448.67 1008.07 1448.67 Q1013.44 1448.67 1016.63 1451.35 Q1019.83 1454.04 1019.83 1458.53 Q1019.83 1460.66 1019.02 1462.58 Q1018.23 1464.48 1016.12 1467.07 Q1015.55 1467.74 1012.44 1470.96 Q1009.34 1474.15 1003.69 1479.92 Z\" fill=\"#000000\" fill-rule=\"evenodd\" fill-opacity=\"1\" /><path clip-path=\"url(#clip390)\" d=\"M 0 0 M1035.08 1452.37 Q1031.47 1452.37 1029.64 1455.94 Q1027.84 1459.48 1027.84 1466.61 Q1027.84 1473.71 1029.64 1477.28 Q1031.47 1480.82 1035.08 1480.82 Q1038.72 1480.82 1040.52 1477.28 Q1042.35 1473.71 1042.35 1466.61 Q1042.35 1459.48 1040.52 1455.94 Q1038.72 1452.37 1035.08 1452.37 M1035.08 1448.67 Q1040.89 1448.67 1043.95 1453.27 Q1047.03 1457.86 1047.03 1466.61 Q1047.03 1475.33 1043.95 1479.94 Q1040.89 1484.52 1035.08 1484.52 Q1029.27 1484.52 1026.19 1479.94 Q1023.14 1475.33 1023.14 1466.61 Q1023.14 1457.86 1026.19 1453.27 Q1029.27 1448.67 1035.08 1448.67 Z\" fill=\"#000000\" fill-rule=\"evenodd\" fill-opacity=\"1\" /><path clip-path=\"url(#clip390)\" d=\"M 0 0 M1428.98 1465.22 Q1432.34 1465.94 1434.21 1468.2 Q1436.11 1470.47 1436.11 1473.81 Q1436.11 1478.92 1432.59 1481.72 Q1429.07 1484.52 1422.59 1484.52 Q1420.41 1484.52 1418.1 1484.08 Q1415.81 1483.67 1413.35 1482.81 L1413.35 1478.3 Q1415.3 1479.43 1417.61 1480.01 Q1419.93 1480.59 1422.45 1480.59 Q1426.85 1480.59 1429.14 1478.85 Q1431.46 1477.12 1431.46 1473.81 Q1431.46 1470.75 1429.3 1469.04 Q1427.17 1467.3 1423.35 1467.3 L1419.33 1467.3 L1419.33 1463.46 L1423.54 1463.46 Q1426.99 1463.46 1428.82 1462.09 Q1430.65 1460.7 1430.65 1458.11 Q1430.65 1455.45 1428.75 1454.04 Q1426.87 1452.6 1423.35 1452.6 Q1421.43 1452.6 1419.23 1453.02 Q1417.03 1453.44 1414.4 1454.31 L1414.4 1450.15 Q1417.06 1449.41 1419.37 1449.04 Q1421.71 1448.67 1423.77 1448.67 Q1429.09 1448.67 1432.2 1451.1 Q1435.3 1453.5 1435.3 1457.63 Q1435.3 1460.5 1433.65 1462.49 Q1432.01 1464.45 1428.98 1465.22 Z\" fill=\"#000000\" fill-rule=\"evenodd\" fill-opacity=\"1\" /><path clip-path=\"url(#clip390)\" d=\"M 0 0 M1451.18 1452.37 Q1447.57 1452.37 1445.74 1455.94 Q1443.93 1459.48 1443.93 1466.61 Q1443.93 1473.71 1445.74 1477.28 Q1447.57 1480.82 1451.18 1480.82 Q1454.81 1480.82 1456.62 1477.28 Q1458.45 1473.71 1458.45 1466.61 Q1458.45 1459.48 1456.62 1455.94 Q1454.81 1452.37 1451.18 1452.37 M1451.18 1448.67 Q1456.99 1448.67 1460.04 1453.27 Q1463.12 1457.86 1463.12 1466.61 Q1463.12 1475.33 1460.04 1479.94 Q1456.99 1484.52 1451.18 1484.52 Q1445.37 1484.52 1442.29 1479.94 Q1439.23 1475.33 1439.23 1466.61 Q1439.23 1457.86 1442.29 1453.27 Q1445.37 1448.67 1451.18 1448.67 Z\" fill=\"#000000\" fill-rule=\"evenodd\" fill-opacity=\"1\" /><path clip-path=\"url(#clip390)\" d=\"M 0 0 M1843.43 1453.37 L1831.62 1471.81 L1843.43 1471.81 L1843.43 1453.37 M1842.2 1449.29 L1848.08 1449.29 L1848.08 1471.81 L1853.01 1471.81 L1853.01 1475.7 L1848.08 1475.7 L1848.08 1483.85 L1843.43 1483.85 L1843.43 1475.7 L1827.83 1475.7 L1827.83 1471.19 L1842.2 1449.29 Z\" fill=\"#000000\" fill-rule=\"evenodd\" fill-opacity=\"1\" /><path clip-path=\"url(#clip390)\" d=\"M 0 0 M1868.08 1452.37 Q1864.47 1452.37 1862.64 1455.94 Q1860.84 1459.48 1860.84 1466.61 Q1860.84 1473.71 1862.64 1477.28 Q1864.47 1480.82 1868.08 1480.82 Q1871.72 1480.82 1873.52 1477.28 Q1875.35 1473.71 1875.35 1466.61 Q1875.35 1459.48 1873.52 1455.94 Q1871.72 1452.37 1868.08 1452.37 M1868.08 1448.67 Q1873.89 1448.67 1876.95 1453.27 Q1880.03 1457.86 1880.03 1466.61 Q1880.03 1475.33 1876.95 1479.94 Q1873.89 1484.52 1868.08 1484.52 Q1862.27 1484.52 1859.19 1479.94 Q1856.14 1475.33 1856.14 1466.61 Q1856.14 1457.86 1859.19 1453.27 Q1862.27 1448.67 1868.08 1448.67 Z\" fill=\"#000000\" fill-rule=\"evenodd\" fill-opacity=\"1\" /><path clip-path=\"url(#clip390)\" d=\"M 0 0 M2246.39 1449.29 L2264.75 1449.29 L2264.75 1453.23 L2250.67 1453.23 L2250.67 1461.7 Q2251.69 1461.35 2252.71 1461.19 Q2253.73 1461 2254.75 1461 Q2260.53 1461 2263.91 1464.18 Q2267.29 1467.35 2267.29 1472.76 Q2267.29 1478.34 2263.82 1481.44 Q2260.35 1484.52 2254.03 1484.52 Q2251.85 1484.52 2249.58 1484.15 Q2247.34 1483.78 2244.93 1483.04 L2244.93 1478.34 Q2247.01 1479.48 2249.24 1480.03 Q2251.46 1480.59 2253.94 1480.59 Q2257.94 1480.59 2260.28 1478.48 Q2262.62 1476.38 2262.62 1472.76 Q2262.62 1469.15 2260.28 1467.05 Q2257.94 1464.94 2253.94 1464.94 Q2252.06 1464.94 2250.19 1465.36 Q2248.33 1465.77 2246.39 1466.65 L2246.39 1449.29 Z\" fill=\"#000000\" fill-rule=\"evenodd\" fill-opacity=\"1\" /><path clip-path=\"url(#clip390)\" d=\"M 0 0 M2282.36 1452.37 Q2278.75 1452.37 2276.92 1455.94 Q2275.12 1459.48 2275.12 1466.61 Q2275.12 1473.71 2276.92 1477.28 Q2278.75 1480.82 2282.36 1480.82 Q2286 1480.82 2287.8 1477.28 Q2289.63 1473.71 2289.63 1466.61 Q2289.63 1459.48 2287.8 1455.94 Q2286 1452.37 2282.36 1452.37 M2282.36 1448.67 Q2288.17 1448.67 2291.23 1453.27 Q2294.31 1457.86 2294.31 1466.61 Q2294.31 1475.33 2291.23 1479.94 Q2288.17 1484.52 2282.36 1484.52 Q2276.55 1484.52 2273.47 1479.94 Q2270.42 1475.33 2270.42 1466.61 Q2270.42 1457.86 2273.47 1453.27 Q2276.55 1448.67 2282.36 1448.67 Z\" fill=\"#000000\" fill-rule=\"evenodd\" fill-opacity=\"1\" /><path clip-path=\"url(#clip390)\" d=\"M 0 0 M1159.66 1532.4 L1165.51 1532.4 L1165.51 1568.04 L1159.66 1568.04 L1159.66 1532.4 M1159.66 1518.52 L1165.51 1518.52 L1165.51 1525.93 L1159.66 1525.93 L1159.66 1518.52 Z\" fill=\"#000000\" fill-rule=\"evenodd\" fill-opacity=\"1\" /><path clip-path=\"url(#clip390)\" d=\"M 0 0 M1177.45 1522.27 L1177.45 1532.4 L1189.51 1532.4 L1189.51 1536.95 L1177.45 1536.95 L1177.45 1556.3 Q1177.45 1560.66 1178.63 1561.9 Q1179.83 1563.14 1183.49 1563.14 L1189.51 1563.14 L1189.51 1568.04 L1183.49 1568.04 Q1176.72 1568.04 1174.14 1565.53 Q1171.56 1562.98 1171.56 1556.3 L1171.56 1536.95 L1167.26 1536.95 L1167.26 1532.4 L1171.56 1532.4 L1171.56 1522.27 L1177.45 1522.27 Z\" fill=\"#000000\" fill-rule=\"evenodd\" fill-opacity=\"1\" /><path clip-path=\"url(#clip390)\" d=\"M 0 0 M1226.15 1548.76 L1226.15 1551.62 L1199.22 1551.62 Q1199.6 1557.67 1202.85 1560.85 Q1206.12 1564 1211.95 1564 Q1215.32 1564 1218.47 1563.17 Q1221.66 1562.35 1224.78 1560.69 L1224.78 1566.23 Q1221.63 1567.57 1218.32 1568.27 Q1215.01 1568.97 1211.6 1568.97 Q1203.07 1568.97 1198.07 1564 Q1193.11 1559.04 1193.11 1550.57 Q1193.11 1541.82 1197.82 1536.69 Q1202.56 1531.54 1210.58 1531.54 Q1217.77 1531.54 1221.94 1536.18 Q1226.15 1540.8 1226.15 1548.76 M1220.29 1547.04 Q1220.22 1542.23 1217.58 1539.37 Q1214.97 1536.5 1210.64 1536.5 Q1205.74 1536.5 1202.78 1539.27 Q1199.85 1542.04 1199.41 1547.07 L1220.29 1547.04 Z\" fill=\"#000000\" fill-rule=\"evenodd\" fill-opacity=\"1\" /><path clip-path=\"url(#clip390)\" d=\"M 0 0 M1252.94 1537.87 Q1251.96 1537.3 1250.78 1537.04 Q1249.63 1536.76 1248.23 1536.76 Q1243.27 1536.76 1240.6 1540 Q1237.95 1543.22 1237.95 1549.27 L1237.95 1568.04 L1232.07 1568.04 L1232.07 1532.4 L1237.95 1532.4 L1237.95 1537.93 Q1239.8 1534.69 1242.76 1533.13 Q1245.72 1531.54 1249.95 1531.54 Q1250.56 1531.54 1251.29 1531.63 Q1252.02 1531.7 1252.91 1531.85 L1252.94 1537.87 Z\" fill=\"#000000\" fill-rule=\"evenodd\" fill-opacity=\"1\" /><path clip-path=\"url(#clip390)\" d=\"M 0 0 M1275.29 1550.12 Q1268.19 1550.12 1265.45 1551.75 Q1262.72 1553.37 1262.72 1557.29 Q1262.72 1560.4 1264.75 1562.25 Q1266.82 1564.07 1270.35 1564.07 Q1275.22 1564.07 1278.15 1560.63 Q1281.11 1557.16 1281.11 1551.43 L1281.11 1550.12 L1275.29 1550.12 M1286.97 1547.71 L1286.97 1568.04 L1281.11 1568.04 L1281.11 1562.63 Q1279.11 1565.88 1276.12 1567.44 Q1273.12 1568.97 1268.8 1568.97 Q1263.32 1568.97 1260.07 1565.91 Q1256.86 1562.82 1256.86 1557.67 Q1256.86 1551.65 1260.87 1548.6 Q1264.91 1545.54 1272.9 1545.54 L1281.11 1545.54 L1281.11 1544.97 Q1281.11 1540.93 1278.44 1538.73 Q1275.8 1536.5 1270.99 1536.5 Q1267.94 1536.5 1265.04 1537.23 Q1262.14 1537.97 1259.47 1539.43 L1259.47 1534.02 Q1262.68 1532.78 1265.71 1532.17 Q1268.73 1531.54 1271.6 1531.54 Q1279.33 1531.54 1283.15 1535.55 Q1286.97 1539.56 1286.97 1547.71 Z\" fill=\"#000000\" fill-rule=\"evenodd\" fill-opacity=\"1\" /><path clip-path=\"url(#clip390)\" d=\"M 0 0 M1298.91 1522.27 L1298.91 1532.4 L1310.97 1532.4 L1310.97 1536.95 L1298.91 1536.95 L1298.91 1556.3 Q1298.91 1560.66 1300.08 1561.9 Q1301.29 1563.14 1304.95 1563.14 L1310.97 1563.14 L1310.97 1568.04 L1304.95 1568.04 Q1298.17 1568.04 1295.59 1565.53 Q1293.02 1562.98 1293.02 1556.3 L1293.02 1536.95 L1288.72 1536.95 L1288.72 1532.4 L1293.02 1532.4 L1293.02 1522.27 L1298.91 1522.27 Z\" fill=\"#000000\" fill-rule=\"evenodd\" fill-opacity=\"1\" /><path clip-path=\"url(#clip390)\" d=\"M 0 0 M1317.11 1532.4 L1322.97 1532.4 L1322.97 1568.04 L1317.11 1568.04 L1317.11 1532.4 M1317.11 1518.52 L1322.97 1518.52 L1322.97 1525.93 L1317.11 1525.93 L1317.11 1518.52 Z\" fill=\"#000000\" fill-rule=\"evenodd\" fill-opacity=\"1\" /><path clip-path=\"url(#clip390)\" d=\"M 0 0 M1342.92 1536.5 Q1338.21 1536.5 1335.48 1540.19 Q1332.74 1543.85 1332.74 1550.25 Q1332.74 1556.65 1335.44 1560.34 Q1338.18 1564 1342.92 1564 Q1347.6 1564 1350.34 1560.31 Q1353.08 1556.62 1353.08 1550.25 Q1353.08 1543.92 1350.34 1540.23 Q1347.6 1536.5 1342.92 1536.5 M1342.92 1531.54 Q1350.56 1531.54 1354.92 1536.5 Q1359.28 1541.47 1359.28 1550.25 Q1359.28 1559 1354.92 1564 Q1350.56 1568.97 1342.92 1568.97 Q1335.25 1568.97 1330.89 1564 Q1326.56 1559 1326.56 1550.25 Q1326.56 1541.47 1330.89 1536.5 Q1335.25 1531.54 1342.92 1531.54 Z\" fill=\"#000000\" fill-rule=\"evenodd\" fill-opacity=\"1\" /><path clip-path=\"url(#clip390)\" d=\"M 0 0 M1395.06 1546.53 L1395.06 1568.04 L1389.2 1568.04 L1389.2 1546.72 Q1389.2 1541.66 1387.23 1539.14 Q1385.26 1536.63 1381.31 1536.63 Q1376.57 1536.63 1373.83 1539.65 Q1371.09 1542.68 1371.09 1547.9 L1371.09 1568.04 L1365.2 1568.04 L1365.2 1532.4 L1371.09 1532.4 L1371.09 1537.93 Q1373.19 1534.72 1376.03 1533.13 Q1378.89 1531.54 1382.61 1531.54 Q1388.76 1531.54 1391.91 1535.36 Q1395.06 1539.14 1395.06 1546.53 Z\" fill=\"#000000\" fill-rule=\"evenodd\" fill-opacity=\"1\" /><path clip-path=\"url(#clip390)\" d=\"M 0 0 M1423.93 1533.45 L1423.93 1538.98 Q1421.44 1537.71 1418.77 1537.07 Q1416.1 1536.44 1413.23 1536.44 Q1408.87 1536.44 1406.68 1537.77 Q1404.51 1539.11 1404.51 1541.79 Q1404.51 1543.82 1406.07 1545 Q1407.63 1546.15 1412.34 1547.2 L1414.35 1547.64 Q1420.59 1548.98 1423.2 1551.43 Q1425.84 1553.85 1425.84 1558.21 Q1425.84 1563.17 1421.89 1566.07 Q1417.98 1568.97 1411.1 1568.97 Q1408.24 1568.97 1405.12 1568.39 Q1402.03 1567.85 1398.59 1566.74 L1398.59 1560.69 Q1401.84 1562.38 1404.99 1563.24 Q1408.14 1564.07 1411.23 1564.07 Q1415.37 1564.07 1417.59 1562.66 Q1419.82 1561.23 1419.82 1558.65 Q1419.82 1556.27 1418.2 1554.99 Q1416.61 1553.72 1411.16 1552.54 L1409.13 1552.07 Q1403.68 1550.92 1401.27 1548.56 Q1398.85 1546.18 1398.85 1542.04 Q1398.85 1537.01 1402.41 1534.27 Q1405.98 1531.54 1412.53 1531.54 Q1415.78 1531.54 1418.64 1532.01 Q1421.51 1532.49 1423.93 1533.45 Z\" fill=\"#000000\" fill-rule=\"evenodd\" fill-opacity=\"1\" /><polyline clip-path=\"url(#clip392)\" style=\"stroke:#000000; stroke-width:2; stroke-opacity:0.1; fill:none\" points=\"\n",
       "  232.737,1423.18 2352.76,1423.18 \n",
       "  \"/>\n",
       "<polyline clip-path=\"url(#clip392)\" style=\"stroke:#000000; stroke-width:2; stroke-opacity:0.1; fill:none\" points=\"\n",
       "  232.737,1018.49 2352.76,1018.49 \n",
       "  \"/>\n",
       "<polyline clip-path=\"url(#clip392)\" style=\"stroke:#000000; stroke-width:2; stroke-opacity:0.1; fill:none\" points=\"\n",
       "  232.737,613.806 2352.76,613.806 \n",
       "  \"/>\n",
       "<polyline clip-path=\"url(#clip392)\" style=\"stroke:#000000; stroke-width:2; stroke-opacity:0.1; fill:none\" points=\"\n",
       "  232.737,209.119 2352.76,209.119 \n",
       "  \"/>\n",
       "<polyline clip-path=\"url(#clip390)\" style=\"stroke:#000000; stroke-width:4; stroke-opacity:1; fill:none\" points=\"\n",
       "  232.737,1423.18 232.737,47.2441 \n",
       "  \"/>\n",
       "<polyline clip-path=\"url(#clip390)\" style=\"stroke:#000000; stroke-width:4; stroke-opacity:1; fill:none\" points=\"\n",
       "  232.737,1423.18 258.177,1423.18 \n",
       "  \"/>\n",
       "<polyline clip-path=\"url(#clip390)\" style=\"stroke:#000000; stroke-width:4; stroke-opacity:1; fill:none\" points=\"\n",
       "  232.737,1018.49 258.177,1018.49 \n",
       "  \"/>\n",
       "<polyline clip-path=\"url(#clip390)\" style=\"stroke:#000000; stroke-width:4; stroke-opacity:1; fill:none\" points=\"\n",
       "  232.737,613.806 258.177,613.806 \n",
       "  \"/>\n",
       "<polyline clip-path=\"url(#clip390)\" style=\"stroke:#000000; stroke-width:4; stroke-opacity:1; fill:none\" points=\"\n",
       "  232.737,209.119 258.177,209.119 \n",
       "  \"/>\n",
       "<path clip-path=\"url(#clip390)\" d=\"M 0 0 M115.256 1423.63 L144.931 1423.63 L144.931 1427.57 L115.256 1427.57 L115.256 1423.63 Z\" fill=\"#000000\" fill-rule=\"evenodd\" fill-opacity=\"1\" /><path clip-path=\"url(#clip390)\" d=\"M 0 0 M150.811 1436.52 L158.45 1436.52 L158.45 1410.16 L150.14 1411.83 L150.14 1407.57 L158.403 1405.9 L163.079 1405.9 L163.079 1436.52 L170.718 1436.52 L170.718 1440.46 L150.811 1440.46 L150.811 1436.52 Z\" fill=\"#000000\" fill-rule=\"evenodd\" fill-opacity=\"1\" /><path clip-path=\"url(#clip390)\" d=\"M 0 0 M175.834 1405.9 L194.19 1405.9 L194.19 1409.84 L180.116 1409.84 L180.116 1418.31 Q181.135 1417.96 182.153 1417.8 Q183.172 1417.61 184.19 1417.61 Q189.977 1417.61 193.357 1420.78 Q196.737 1423.96 196.737 1429.37 Q196.737 1434.95 193.264 1438.05 Q189.792 1441.13 183.473 1441.13 Q181.297 1441.13 179.028 1440.76 Q176.783 1440.39 174.376 1439.65 L174.376 1434.95 Q176.459 1436.08 178.681 1436.64 Q180.903 1437.2 183.38 1437.2 Q187.385 1437.2 189.723 1435.09 Q192.061 1432.98 192.061 1429.37 Q192.061 1425.76 189.723 1423.65 Q187.385 1421.55 183.38 1421.55 Q181.505 1421.55 179.63 1421.96 Q177.778 1422.38 175.834 1423.26 L175.834 1405.9 Z\" fill=\"#000000\" fill-rule=\"evenodd\" fill-opacity=\"1\" /><path clip-path=\"url(#clip390)\" d=\"M 0 0 M114.26 1018.94 L143.936 1018.94 L143.936 1022.88 L114.26 1022.88 L114.26 1018.94 Z\" fill=\"#000000\" fill-rule=\"evenodd\" fill-opacity=\"1\" /><path clip-path=\"url(#clip390)\" d=\"M 0 0 M149.816 1031.84 L157.454 1031.84 L157.454 1005.47 L149.144 1007.14 L149.144 1002.88 L157.408 1001.21 L162.084 1001.21 L162.084 1031.84 L169.723 1031.84 L169.723 1035.77 L149.816 1035.77 L149.816 1031.84 Z\" fill=\"#000000\" fill-rule=\"evenodd\" fill-opacity=\"1\" /><path clip-path=\"url(#clip390)\" d=\"M 0 0 M184.792 1004.29 Q181.181 1004.29 179.352 1007.86 Q177.547 1011.4 177.547 1018.53 Q177.547 1025.63 179.352 1029.2 Q181.181 1032.74 184.792 1032.74 Q188.426 1032.74 190.232 1029.2 Q192.061 1025.63 192.061 1018.53 Q192.061 1011.4 190.232 1007.86 Q188.426 1004.29 184.792 1004.29 M184.792 1000.59 Q190.602 1000.59 193.658 1005.19 Q196.737 1009.78 196.737 1018.53 Q196.737 1027.25 193.658 1031.86 Q190.602 1036.44 184.792 1036.44 Q178.982 1036.44 175.903 1031.86 Q172.848 1027.25 172.848 1018.53 Q172.848 1009.78 175.903 1005.19 Q178.982 1000.59 184.792 1000.59 Z\" fill=\"#000000\" fill-rule=\"evenodd\" fill-opacity=\"1\" /><path clip-path=\"url(#clip390)\" d=\"M 0 0 M141.042 614.257 L170.718 614.257 L170.718 618.192 L141.042 618.192 L141.042 614.257 Z\" fill=\"#000000\" fill-rule=\"evenodd\" fill-opacity=\"1\" /><path clip-path=\"url(#clip390)\" d=\"M 0 0 M175.834 596.526 L194.19 596.526 L194.19 600.461 L180.116 600.461 L180.116 608.933 Q181.135 608.586 182.153 608.424 Q183.172 608.239 184.19 608.239 Q189.977 608.239 193.357 611.41 Q196.737 614.581 196.737 619.998 Q196.737 625.577 193.264 628.678 Q189.792 631.757 183.473 631.757 Q181.297 631.757 179.028 631.387 Q176.783 631.016 174.376 630.276 L174.376 625.577 Q176.459 626.711 178.681 627.266 Q180.903 627.822 183.38 627.822 Q187.385 627.822 189.723 625.716 Q192.061 623.609 192.061 619.998 Q192.061 616.387 189.723 614.28 Q187.385 612.174 183.38 612.174 Q181.505 612.174 179.63 612.591 Q177.778 613.007 175.834 613.887 L175.834 596.526 Z\" fill=\"#000000\" fill-rule=\"evenodd\" fill-opacity=\"1\" /><path clip-path=\"url(#clip390)\" d=\"M 0 0 M184.792 194.918 Q181.181 194.918 179.352 198.482 Q177.547 202.024 177.547 209.154 Q177.547 216.26 179.352 219.825 Q181.181 223.366 184.792 223.366 Q188.426 223.366 190.232 219.825 Q192.061 216.26 192.061 209.154 Q192.061 202.024 190.232 198.482 Q188.426 194.918 184.792 194.918 M184.792 191.214 Q190.602 191.214 193.658 195.82 Q196.737 200.404 196.737 209.154 Q196.737 217.88 193.658 222.487 Q190.602 227.07 184.792 227.07 Q178.982 227.07 175.903 222.487 Q172.848 217.88 172.848 209.154 Q172.848 200.404 175.903 195.82 Q178.982 191.214 184.792 191.214 Z\" fill=\"#000000\" fill-rule=\"evenodd\" fill-opacity=\"1\" /><path clip-path=\"url(#clip390)\" d=\"M 0 0 M14.479 931.514 L14.479 925.658 L64.0042 925.658 L64.0042 931.514 L14.479 931.514 Z\" fill=\"#000000\" fill-rule=\"evenodd\" fill-opacity=\"1\" /><path clip-path=\"url(#clip390)\" d=\"M 0 0 M32.4621 905.702 Q32.4621 910.412 36.1542 913.149 Q39.8145 915.887 46.212 915.887 Q52.6095 915.887 56.3017 913.181 Q59.9619 910.444 59.9619 905.702 Q59.9619 901.023 56.2698 898.285 Q52.5777 895.548 46.212 895.548 Q39.8781 895.548 36.186 898.285 Q32.4621 901.023 32.4621 905.702 M27.4968 905.702 Q27.4968 898.063 32.4621 893.702 Q37.4273 889.342 46.212 889.342 Q54.9649 889.342 59.9619 893.702 Q64.9272 898.063 64.9272 905.702 Q64.9272 913.372 59.9619 917.733 Q54.9649 922.061 46.212 922.061 Q37.4273 922.061 32.4621 917.733 Q27.4968 913.372 27.4968 905.702 Z\" fill=\"#000000\" fill-rule=\"evenodd\" fill-opacity=\"1\" /><path clip-path=\"url(#clip390)\" d=\"M 0 0 M45.7664 859.741 Q39.4007 859.741 35.8996 862.383 Q32.3984 864.993 32.3984 869.735 Q32.3984 874.446 35.8996 877.088 Q39.4007 879.698 45.7664 879.698 Q52.1003 879.698 55.6014 877.088 Q59.1026 874.446 59.1026 869.735 Q59.1026 864.993 55.6014 862.383 Q52.1003 859.741 45.7664 859.741 M59.58 853.885 Q68.683 853.885 73.1071 857.927 Q77.5631 861.969 77.5631 870.308 Q77.5631 873.396 77.0857 876.133 Q76.6401 878.87 75.6852 881.448 L69.9879 881.448 Q71.3884 878.87 72.0568 876.356 Q72.7252 873.841 72.7252 871.231 Q72.7252 865.47 69.7015 862.606 Q66.7096 859.741 60.6303 859.741 L57.7339 859.741 Q60.885 861.555 62.4446 864.388 Q64.0042 867.221 64.0042 871.168 Q64.0042 877.724 59.0071 881.735 Q54.01 885.745 45.7664 885.745 Q37.491 885.745 32.4939 881.735 Q27.4968 877.724 27.4968 871.168 Q27.4968 867.221 29.0564 864.388 Q30.616 861.555 33.7671 859.741 L28.3562 859.741 L28.3562 853.885 L59.58 853.885 Z\" fill=\"#000000\" fill-rule=\"evenodd\" fill-opacity=\"1\" /><path clip-path=\"url(#clip390)\" d=\"M 0 0 M58.5933 845.8 L58.5933 835.297 L22.3406 835.297 L24.6323 846.723 L18.7758 846.723 L16.4842 835.36 L16.4842 828.931 L58.5933 828.931 L58.5933 818.428 L64.0042 818.428 L64.0042 845.8 L58.5933 845.8 Z\" fill=\"#000000\" fill-rule=\"evenodd\" fill-opacity=\"1\" /><path clip-path=\"url(#clip390)\" d=\"M 0 0 M20.7174 797.707 Q20.7174 802.673 25.6189 805.187 Q30.4887 807.67 40.2919 807.67 Q50.0633 807.67 54.9649 805.187 Q59.8346 802.673 59.8346 797.707 Q59.8346 792.71 54.9649 790.228 Q50.0633 787.713 40.2919 787.713 Q30.4887 787.713 25.6189 790.228 Q20.7174 792.71 20.7174 797.707 M15.6248 797.707 Q15.6248 789.718 21.9587 785.517 Q28.2607 781.284 40.2919 781.284 Q52.2913 781.284 58.6251 785.517 Q64.9272 789.718 64.9272 797.707 Q64.9272 805.696 58.6251 809.929 Q52.2913 814.131 40.2919 814.131 Q28.2607 814.131 21.9587 809.929 Q15.6248 805.696 15.6248 797.707 Z\" fill=\"#000000\" fill-rule=\"evenodd\" fill-opacity=\"1\" /><path clip-path=\"url(#clip390)\" d=\"M 0 0 M33.8307 733.764 Q33.2578 734.75 33.0032 735.928 Q32.7167 737.074 32.7167 738.474 Q32.7167 743.44 35.9632 746.113 Q39.1779 748.755 45.2253 748.755 L64.0042 748.755 L64.0042 754.643 L28.3562 754.643 L28.3562 748.755 L33.8944 748.755 Q30.6479 746.909 29.0883 743.949 Q27.4968 740.989 27.4968 736.756 Q27.4968 736.151 27.5923 735.419 Q27.656 734.687 27.8151 733.796 L33.8307 733.764 Z\" fill=\"#000000\" fill-rule=\"evenodd\" fill-opacity=\"1\" /><path clip-path=\"url(#clip390)\" d=\"M 0 0 M44.7161 698.561 L47.5806 698.561 L47.5806 725.488 Q53.6281 725.106 56.8109 721.86 Q59.9619 718.582 59.9619 712.757 Q59.9619 709.383 59.1344 706.232 Q58.3069 703.049 56.6518 699.93 L62.1899 699.93 Q63.5267 703.081 64.227 706.391 Q64.9272 709.701 64.9272 713.107 Q64.9272 721.637 59.9619 726.634 Q54.9967 731.599 46.5303 731.599 Q37.7774 731.599 32.6531 726.889 Q27.4968 722.146 27.4968 714.126 Q27.4968 706.932 32.1438 702.763 Q36.7589 698.561 44.7161 698.561 M42.9973 704.418 Q38.1912 704.482 35.3266 707.123 Q32.4621 709.733 32.4621 714.062 Q32.4621 718.964 35.2312 721.924 Q38.0002 724.852 43.0292 725.297 L42.9973 704.418 Z\" fill=\"#000000\" fill-rule=\"evenodd\" fill-opacity=\"1\" /><path clip-path=\"url(#clip390)\" d=\"M 0 0 M29.4065 669.693 L34.9447 669.693 Q33.6716 672.176 33.035 674.849 Q32.3984 677.523 32.3984 680.387 Q32.3984 684.748 33.7352 686.944 Q35.072 689.108 37.7456 689.108 Q39.7826 689.108 40.9603 687.549 Q42.1061 685.989 43.1565 681.279 L43.6021 679.273 Q44.9389 673.035 47.3897 670.425 Q49.8086 667.783 54.1691 667.783 Q59.1344 667.783 62.0308 671.73 Q64.9272 675.645 64.9272 682.52 Q64.9272 685.384 64.3543 688.504 Q63.8132 691.591 62.6992 695.028 L56.6518 695.028 Q58.3387 691.782 59.198 688.631 Q60.0256 685.48 60.0256 682.393 Q60.0256 678.255 58.6251 676.027 Q57.1929 673.799 54.6147 673.799 Q52.2276 673.799 50.9545 675.422 Q49.6813 677.013 48.5037 682.456 L48.0262 684.493 Q46.8804 689.936 44.5251 692.355 Q42.138 694.774 38.0002 694.774 Q32.9713 694.774 30.2341 691.209 Q27.4968 687.644 27.4968 681.088 Q27.4968 677.841 27.9743 674.976 Q28.4517 672.112 29.4065 669.693 Z\" fill=\"#000000\" fill-rule=\"evenodd\" fill-opacity=\"1\" /><path clip-path=\"url(#clip390)\" d=\"M 0 0 M28.3562 661.64 L28.3562 655.784 L64.0042 655.784 L64.0042 661.64 L28.3562 661.64 M14.479 661.64 L14.479 655.784 L21.895 655.784 L21.895 661.64 L14.479 661.64 Z\" fill=\"#000000\" fill-rule=\"evenodd\" fill-opacity=\"1\" /><path clip-path=\"url(#clip390)\" d=\"M 0 0 M33.7671 626.183 L14.479 626.183 L14.479 620.327 L64.0042 620.327 L64.0042 626.183 L58.657 626.183 Q61.8398 628.029 63.3994 630.862 Q64.9272 633.663 64.9272 637.61 Q64.9272 644.071 59.771 648.145 Q54.6147 652.187 46.212 652.187 Q37.8093 652.187 32.6531 648.145 Q27.4968 644.071 27.4968 637.61 Q27.4968 633.663 29.0564 630.862 Q30.5842 628.029 33.7671 626.183 M46.212 646.14 Q52.6732 646.14 56.3653 643.498 Q60.0256 640.824 60.0256 636.177 Q60.0256 631.531 56.3653 628.857 Q52.6732 626.183 46.212 626.183 Q39.7508 626.183 36.0905 628.857 Q32.3984 631.531 32.3984 636.177 Q32.3984 640.824 36.0905 643.498 Q39.7508 646.14 46.212 646.14 Z\" fill=\"#000000\" fill-rule=\"evenodd\" fill-opacity=\"1\" /><path clip-path=\"url(#clip390)\" d=\"M 0 0 M49.9359 614.789 L28.3562 614.789 L28.3562 608.932 L49.7131 608.932 Q54.7739 608.932 57.3202 606.959 Q59.8346 604.986 59.8346 601.039 Q59.8346 596.296 56.8109 593.559 Q53.7872 590.79 48.5673 590.79 L28.3562 590.79 L28.3562 584.934 L64.0042 584.934 L64.0042 590.79 L58.5296 590.79 Q61.7762 592.923 63.3676 595.755 Q64.9272 598.556 64.9272 602.28 Q64.9272 608.423 61.1078 611.606 Q57.2883 614.789 49.9359 614.789 M27.4968 600.052 L27.4968 600.052 Z\" fill=\"#000000\" fill-rule=\"evenodd\" fill-opacity=\"1\" /><path clip-path=\"url(#clip390)\" d=\"M 0 0 M46.0847 562.59 Q46.0847 569.688 47.7079 572.425 Q49.3312 575.162 53.2461 575.162 Q56.3653 575.162 58.2114 573.125 Q60.0256 571.056 60.0256 567.523 Q60.0256 562.654 56.5881 559.725 Q53.1188 556.765 47.3897 556.765 L46.0847 556.765 L46.0847 562.59 M43.6657 550.909 L64.0042 550.909 L64.0042 556.765 L58.5933 556.765 Q61.8398 558.77 63.3994 561.762 Q64.9272 564.754 64.9272 569.083 Q64.9272 574.557 61.8716 577.804 Q58.7843 581.019 53.6281 581.019 Q47.6125 581.019 44.5569 577.008 Q41.5014 572.966 41.5014 564.977 L41.5014 556.765 L40.9285 556.765 Q36.8862 556.765 34.6901 559.439 Q32.4621 562.081 32.4621 566.887 Q32.4621 569.942 33.1941 572.839 Q33.9262 575.735 35.3903 578.409 L29.9795 578.409 Q28.7381 575.194 28.1334 572.17 Q27.4968 569.147 27.4968 566.282 Q27.4968 558.548 31.5072 554.728 Q35.5176 550.909 43.6657 550.909 Z\" fill=\"#000000\" fill-rule=\"evenodd\" fill-opacity=\"1\" /><path clip-path=\"url(#clip390)\" d=\"M 0 0 M14.479 544.766 L14.479 538.909 L64.0042 538.909 L64.0042 544.766 L14.479 544.766 Z\" fill=\"#000000\" fill-rule=\"evenodd\" fill-opacity=\"1\" /><polyline clip-path=\"url(#clip392)\" style=\"stroke:#009af9; stroke-width:4; stroke-opacity:1; fill:none\" points=\"\n",
       "  232.737,1135.59 274.306,1568.74 315.875,1497.27 357.444,1785.16 399.013,1556.3 440.582,1814.48 482.151,1809.84 523.72,1883.01 \n",
       "  \"/>\n",
       "</svg>\n"
      ]
     },
     "metadata": {},
     "execution_count": 33
    }
   ],
   "cell_type": "code",
   "source": [
    "plot(log.(gmres.resnorms[:]) / log(10));\n",
    "plot!(legend = false, xlims = (1, iters), ylims = (-15, 2));\n",
    "plot!(ylabel = \"log10 residual\", xlabel = \"iterations\")"
   ],
   "metadata": {},
   "execution_count": 33
  },
  {
   "cell_type": "markdown",
   "source": [
    "---\n",
    "\n",
    "*This notebook was generated using [Literate.jl](https://github.com/fredrikekre/Literate.jl).*"
   ],
   "metadata": {}
  }
 ],
 "nbformat_minor": 3,
 "metadata": {
  "language_info": {
   "file_extension": ".jl",
   "mimetype": "application/julia",
   "name": "julia",
   "version": "1.5.2"
  },
  "kernelspec": {
   "name": "julia-1.5",
   "display_name": "Julia 1.5.2",
   "language": "julia"
  }
 },
 "nbformat": 4
}
